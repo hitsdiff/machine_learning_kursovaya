{
 "cells": [
  {
   "cell_type": "code",
   "execution_count": 1,
   "metadata": {
    "colab": {
     "base_uri": "https://localhost:8080/"
    },
    "id": "G4RQ74zc6Gza",
    "outputId": "71db6873-acd0-4a6f-d0a0-f68de676eb34"
   },
   "outputs": [
    {
     "name": "stdout",
     "output_type": "stream",
     "text": [
      "Looking in indexes: https://pypi.org/simple, https://us-python.pkg.dev/colab-wheels/public/simple/\n",
      "Requirement already satisfied: catboost in /usr/local/lib/python3.8/dist-packages (1.1.1)\n",
      "Requirement already satisfied: plotly in /usr/local/lib/python3.8/dist-packages (from catboost) (5.5.0)\n",
      "Requirement already satisfied: graphviz in /usr/local/lib/python3.8/dist-packages (from catboost) (0.10.1)\n",
      "Requirement already satisfied: six in /usr/local/lib/python3.8/dist-packages (from catboost) (1.15.0)\n",
      "Requirement already satisfied: numpy>=1.16.0 in /usr/local/lib/python3.8/dist-packages (from catboost) (1.21.6)\n",
      "Requirement already satisfied: scipy in /usr/local/lib/python3.8/dist-packages (from catboost) (1.7.3)\n",
      "Requirement already satisfied: pandas>=0.24.0 in /usr/local/lib/python3.8/dist-packages (from catboost) (1.3.5)\n",
      "Requirement already satisfied: matplotlib in /usr/local/lib/python3.8/dist-packages (from catboost) (3.2.2)\n",
      "Requirement already satisfied: python-dateutil>=2.7.3 in /usr/local/lib/python3.8/dist-packages (from pandas>=0.24.0->catboost) (2.8.2)\n",
      "Requirement already satisfied: pytz>=2017.3 in /usr/local/lib/python3.8/dist-packages (from pandas>=0.24.0->catboost) (2022.7)\n",
      "Requirement already satisfied: pyparsing!=2.0.4,!=2.1.2,!=2.1.6,>=2.0.1 in /usr/local/lib/python3.8/dist-packages (from matplotlib->catboost) (3.0.9)\n",
      "Requirement already satisfied: kiwisolver>=1.0.1 in /usr/local/lib/python3.8/dist-packages (from matplotlib->catboost) (1.4.4)\n",
      "Requirement already satisfied: cycler>=0.10 in /usr/local/lib/python3.8/dist-packages (from matplotlib->catboost) (0.11.0)\n",
      "Requirement already satisfied: tenacity>=6.2.0 in /usr/local/lib/python3.8/dist-packages (from plotly->catboost) (8.1.0)\n"
     ]
    }
   ],
   "source": [
    "!pip install catboost"
   ]
  },
  {
   "cell_type": "code",
   "execution_count": 2,
   "metadata": {
    "id": "yaiWxgbTylBD"
   },
   "outputs": [],
   "source": [
    "# Работа с данными \n",
    "import pandas as pd\n",
    "import numpy as np\n",
    "\n",
    "# Балансировка\n",
    "from imblearn.over_sampling import SMOTE\n",
    "\n",
    "# Разделение на обучающую и тестовую выборки\n",
    "from sklearn.model_selection import train_test_split\n",
    "\n",
    "# Классификаторы\n",
    "from sklearn.tree import DecisionTreeClassifier\n",
    "from catboost import CatBoostClassifier, Pool\n",
    "from sklearn.ensemble import RandomForestClassifier\n",
    "from sklearn.linear_model import LogisticRegression\n",
    "from sklearn.ensemble import GradientBoostingClassifier\n",
    "from sklearn import tree\n",
    "\n",
    "# Визуалцияция результатов обучения\n",
    "from sklearn.metrics import confusion_matrix, ConfusionMatrixDisplay\n",
    "import matplotlib.pyplot as plt\n",
    "import seaborn as sns\n",
    "\n",
    "from sklearn.metrics import classification_report"
   ]
  },
  {
   "cell_type": "markdown",
   "metadata": {
    "id": "-4KeWRFZAshp"
   },
   "source": [
    "#Загрузка данных"
   ]
  },
  {
   "cell_type": "code",
   "execution_count": 3,
   "metadata": {
    "colab": {
     "base_uri": "https://localhost:8080/"
    },
    "id": "gQUwCrSbZDWy",
    "outputId": "008efdd7-e986-48be-fec3-d9c7d047814d"
   },
   "outputs": [
    {
     "name": "stdout",
     "output_type": "stream",
     "text": [
      "Drive already mounted at /content/drive; to attempt to forcibly remount, call drive.mount(\"/content/drive\", force_remount=True).\n"
     ]
    }
   ],
   "source": [
    "from google.colab import drive\n",
    "drive.mount('/content/drive')"
   ]
  },
  {
   "cell_type": "code",
   "execution_count": 4,
   "metadata": {
    "colab": {
     "base_uri": "https://localhost:8080/",
     "height": 261
    },
    "id": "XHPkdRHnWDnr",
    "outputId": "bfd3b81f-24bd-43d7-b6cc-f11339008d58"
   },
   "outputs": [
    {
     "name": "stderr",
     "output_type": "stream",
     "text": [
      "/usr/local/lib/python3.8/dist-packages/IPython/core/interactiveshell.py:3326: DtypeWarning: Columns (113,116,119,122) have mixed types.Specify dtype option on import or set low_memory=False.\n",
      "  exec(code_obj, self.user_global_ns, self.user_ns)\n"
     ]
    },
    {
     "data": {
      "text/html": [
       "\n",
       "  <div id=\"df-b5334aed-c9ed-4249-be72-249ae3c7227c\">\n",
       "    <div class=\"colab-df-container\">\n",
       "      <div>\n",
       "<style scoped>\n",
       "    .dataframe tbody tr th:only-of-type {\n",
       "        vertical-align: middle;\n",
       "    }\n",
       "\n",
       "    .dataframe tbody tr th {\n",
       "        vertical-align: top;\n",
       "    }\n",
       "\n",
       "    .dataframe thead th {\n",
       "        text-align: right;\n",
       "    }\n",
       "</style>\n",
       "<table border=\"1\" class=\"dataframe\">\n",
       "  <thead>\n",
       "    <tr style=\"text-align: right;\">\n",
       "      <th></th>\n",
       "      <th>ser_loc</th>\n",
       "      <th>zns_loc</th>\n",
       "      <th>prs_loc</th>\n",
       "      <th>year_month</th>\n",
       "      <th>fail_place</th>\n",
       "      <th>fail_reason</th>\n",
       "      <th>fail_type</th>\n",
       "      <th>day</th>\n",
       "    </tr>\n",
       "  </thead>\n",
       "  <tbody>\n",
       "    <tr>\n",
       "      <th>0</th>\n",
       "      <td>134</td>\n",
       "      <td>171.0</td>\n",
       "      <td>1.0</td>\n",
       "      <td>2021-01</td>\n",
       "      <td>Дуриан</td>\n",
       "      <td>Момордика</td>\n",
       "      <td>Мармеладный плод</td>\n",
       "      <td>12</td>\n",
       "    </tr>\n",
       "    <tr>\n",
       "      <th>3</th>\n",
       "      <td>134</td>\n",
       "      <td>166.0</td>\n",
       "      <td>1.0</td>\n",
       "      <td>2021-01</td>\n",
       "      <td>Маракуйя</td>\n",
       "      <td>Либерика</td>\n",
       "      <td>Салакка</td>\n",
       "      <td>12</td>\n",
       "    </tr>\n",
       "    <tr>\n",
       "      <th>4</th>\n",
       "      <td>240</td>\n",
       "      <td>1068.0</td>\n",
       "      <td>1.0</td>\n",
       "      <td>2021-01</td>\n",
       "      <td>Земляной орех</td>\n",
       "      <td>Абрикос</td>\n",
       "      <td>Пара-гуайява</td>\n",
       "      <td>5</td>\n",
       "    </tr>\n",
       "    <tr>\n",
       "      <th>7</th>\n",
       "      <td>240</td>\n",
       "      <td>2200.0</td>\n",
       "      <td>1.0</td>\n",
       "      <td>2021-01</td>\n",
       "      <td>Маракуйя</td>\n",
       "      <td>Гранат</td>\n",
       "      <td>Мармеладный плод</td>\n",
       "      <td>17</td>\n",
       "    </tr>\n",
       "    <tr>\n",
       "      <th>9</th>\n",
       "      <td>240</td>\n",
       "      <td>2734.0</td>\n",
       "      <td>1.0</td>\n",
       "      <td>2021-01</td>\n",
       "      <td>Земляной орех</td>\n",
       "      <td>Бананы</td>\n",
       "      <td>Гнетум гнемон</td>\n",
       "      <td>4</td>\n",
       "    </tr>\n",
       "  </tbody>\n",
       "</table>\n",
       "</div>\n",
       "      <button class=\"colab-df-convert\" onclick=\"convertToInteractive('df-b5334aed-c9ed-4249-be72-249ae3c7227c')\"\n",
       "              title=\"Convert this dataframe to an interactive table.\"\n",
       "              style=\"display:none;\">\n",
       "        \n",
       "  <svg xmlns=\"http://www.w3.org/2000/svg\" height=\"24px\"viewBox=\"0 0 24 24\"\n",
       "       width=\"24px\">\n",
       "    <path d=\"M0 0h24v24H0V0z\" fill=\"none\"/>\n",
       "    <path d=\"M18.56 5.44l.94 2.06.94-2.06 2.06-.94-2.06-.94-.94-2.06-.94 2.06-2.06.94zm-11 1L8.5 8.5l.94-2.06 2.06-.94-2.06-.94L8.5 2.5l-.94 2.06-2.06.94zm10 10l.94 2.06.94-2.06 2.06-.94-2.06-.94-.94-2.06-.94 2.06-2.06.94z\"/><path d=\"M17.41 7.96l-1.37-1.37c-.4-.4-.92-.59-1.43-.59-.52 0-1.04.2-1.43.59L10.3 9.45l-7.72 7.72c-.78.78-.78 2.05 0 2.83L4 21.41c.39.39.9.59 1.41.59.51 0 1.02-.2 1.41-.59l7.78-7.78 2.81-2.81c.8-.78.8-2.07 0-2.86zM5.41 20L4 18.59l7.72-7.72 1.47 1.35L5.41 20z\"/>\n",
       "  </svg>\n",
       "      </button>\n",
       "      \n",
       "  <style>\n",
       "    .colab-df-container {\n",
       "      display:flex;\n",
       "      flex-wrap:wrap;\n",
       "      gap: 12px;\n",
       "    }\n",
       "\n",
       "    .colab-df-convert {\n",
       "      background-color: #E8F0FE;\n",
       "      border: none;\n",
       "      border-radius: 50%;\n",
       "      cursor: pointer;\n",
       "      display: none;\n",
       "      fill: #1967D2;\n",
       "      height: 32px;\n",
       "      padding: 0 0 0 0;\n",
       "      width: 32px;\n",
       "    }\n",
       "\n",
       "    .colab-df-convert:hover {\n",
       "      background-color: #E2EBFA;\n",
       "      box-shadow: 0px 1px 2px rgba(60, 64, 67, 0.3), 0px 1px 3px 1px rgba(60, 64, 67, 0.15);\n",
       "      fill: #174EA6;\n",
       "    }\n",
       "\n",
       "    [theme=dark] .colab-df-convert {\n",
       "      background-color: #3B4455;\n",
       "      fill: #D2E3FC;\n",
       "    }\n",
       "\n",
       "    [theme=dark] .colab-df-convert:hover {\n",
       "      background-color: #434B5C;\n",
       "      box-shadow: 0px 1px 3px 1px rgba(0, 0, 0, 0.15);\n",
       "      filter: drop-shadow(0px 1px 2px rgba(0, 0, 0, 0.3));\n",
       "      fill: #FFFFFF;\n",
       "    }\n",
       "  </style>\n",
       "\n",
       "      <script>\n",
       "        const buttonEl =\n",
       "          document.querySelector('#df-b5334aed-c9ed-4249-be72-249ae3c7227c button.colab-df-convert');\n",
       "        buttonEl.style.display =\n",
       "          google.colab.kernel.accessAllowed ? 'block' : 'none';\n",
       "\n",
       "        async function convertToInteractive(key) {\n",
       "          const element = document.querySelector('#df-b5334aed-c9ed-4249-be72-249ae3c7227c');\n",
       "          const dataTable =\n",
       "            await google.colab.kernel.invokeFunction('convertToInteractive',\n",
       "                                                     [key], {});\n",
       "          if (!dataTable) return;\n",
       "\n",
       "          const docLinkHtml = 'Like what you see? Visit the ' +\n",
       "            '<a target=\"_blank\" href=https://colab.research.google.com/notebooks/data_table.ipynb>data table notebook</a>'\n",
       "            + ' to learn more about interactive tables.';\n",
       "          element.innerHTML = '';\n",
       "          dataTable['output_type'] = 'display_data';\n",
       "          await google.colab.output.renderOutput(dataTable, element);\n",
       "          const docLink = document.createElement('div');\n",
       "          docLink.innerHTML = docLinkHtml;\n",
       "          element.appendChild(docLink);\n",
       "        }\n",
       "      </script>\n",
       "    </div>\n",
       "  </div>\n",
       "  "
      ],
      "text/plain": [
       "   ser_loc  zns_loc  prs_loc year_month     fail_place fail_reason  \\\n",
       "0      134    171.0      1.0    2021-01         Дуриан   Момордика   \n",
       "3      134    166.0      1.0    2021-01       Маракуйя    Либерика   \n",
       "4      240   1068.0      1.0    2021-01  Земляной орех     Абрикос   \n",
       "7      240   2200.0      1.0    2021-01       Маракуйя      Гранат   \n",
       "9      240   2734.0      1.0    2021-01  Земляной орех      Бананы   \n",
       "\n",
       "          fail_type  day  \n",
       "0  Мармеладный плод   12  \n",
       "3           Салакка   12  \n",
       "4      Пара-гуайява    5  \n",
       "7  Мармеладный плод   17  \n",
       "9     Гнетум гнемон    4  "
      ]
     },
     "execution_count": 4,
     "metadata": {},
     "output_type": "execute_result"
    }
   ],
   "source": [
    "# импортируем датасеты\n",
    "data = pd.read_csv(r'/content/drive/MyDrive/feature_data_new_mini.csv')\n",
    "\n",
    "goal = pd.read_csv(r'/content/drive/MyDrive/goal_cipher.csv', index_col=0)\n",
    "goal.head()"
   ]
  },
  {
   "cell_type": "markdown",
   "metadata": {
    "id": "F1pMTOljA9s4"
   },
   "source": [
    "#Чистка данных"
   ]
  },
  {
   "cell_type": "code",
   "execution_count": 5,
   "metadata": {
    "colab": {
     "base_uri": "https://localhost:8080/"
    },
    "id": "mODMYvPdWDp9",
    "outputId": "ec839ac0-8f9e-47d2-a15c-7f7fbf8c3311"
   },
   "outputs": [
    {
     "name": "stdout",
     "output_type": "stream",
     "text": [
      "45418\n",
      "43855\n"
     ]
    }
   ],
   "source": [
    "print(len(data.index))\n",
    "data = data.drop_duplicates() # удаляем дубликаты \n",
    "print(len(data.index))"
   ]
  },
  {
   "cell_type": "markdown",
   "metadata": {
    "id": "By9c-IE2BNS6"
   },
   "source": [
    "#Сравнение дата сетов"
   ]
  },
  {
   "cell_type": "code",
   "execution_count": 6,
   "metadata": {
    "colab": {
     "base_uri": "https://localhost:8080/",
     "height": 299
    },
    "id": "1SNiGKjEBy9D",
    "outputId": "a69c770d-d61b-4381-ab9b-5cd70555bcf5"
   },
   "outputs": [
    {
     "data": {
      "text/html": [
       "\n",
       "  <div id=\"df-2319a49e-3b96-4aae-a250-c194e801ed0b\">\n",
       "    <div class=\"colab-df-container\">\n",
       "      <div>\n",
       "<style scoped>\n",
       "    .dataframe tbody tr th:only-of-type {\n",
       "        vertical-align: middle;\n",
       "    }\n",
       "\n",
       "    .dataframe tbody tr th {\n",
       "        vertical-align: top;\n",
       "    }\n",
       "\n",
       "    .dataframe thead th {\n",
       "        text-align: right;\n",
       "    }\n",
       "</style>\n",
       "<table border=\"1\" class=\"dataframe\">\n",
       "  <thead>\n",
       "    <tr style=\"text-align: right;\">\n",
       "      <th></th>\n",
       "      <th>ser_loc</th>\n",
       "      <th>zns_loc</th>\n",
       "      <th>prs_loc</th>\n",
       "      <th>year_month</th>\n",
       "      <th>count_fail</th>\n",
       "      <th>107_repair_count</th>\n",
       "      <th>307_repair_count</th>\n",
       "      <th>308_repair_count</th>\n",
       "      <th>309_repair_count</th>\n",
       "      <th>521_repair_count</th>\n",
       "      <th>...</th>\n",
       "      <th>тл-2к_y</th>\n",
       "      <th>тл-2к1</th>\n",
       "      <th>эд118а</th>\n",
       "      <th>эд118б</th>\n",
       "      <th>эдп810</th>\n",
       "      <th>эк-810ч</th>\n",
       "      <th>экг-8ж</th>\n",
       "      <th>power</th>\n",
       "      <th>last_of_p_data</th>\n",
       "      <th>last_of_in_invent</th>\n",
       "    </tr>\n",
       "  </thead>\n",
       "  <tbody>\n",
       "    <tr>\n",
       "      <th>0</th>\n",
       "      <td>107</td>\n",
       "      <td>3.0</td>\n",
       "      <td>1.0</td>\n",
       "      <td>2020-01-28</td>\n",
       "      <td>1.0</td>\n",
       "      <td>0.0</td>\n",
       "      <td>0.0</td>\n",
       "      <td>0.0</td>\n",
       "      <td>0.0</td>\n",
       "      <td>0.0</td>\n",
       "      <td>...</td>\n",
       "      <td>0.0</td>\n",
       "      <td>0.0</td>\n",
       "      <td>0.0</td>\n",
       "      <td>0.0</td>\n",
       "      <td>0.0</td>\n",
       "      <td>0.0</td>\n",
       "      <td>0.0</td>\n",
       "      <td>3250.0</td>\n",
       "      <td>0.0</td>\n",
       "      <td>0.0</td>\n",
       "    </tr>\n",
       "    <tr>\n",
       "      <th>1</th>\n",
       "      <td>107</td>\n",
       "      <td>3.0</td>\n",
       "      <td>1.0</td>\n",
       "      <td>2019-03-28</td>\n",
       "      <td>1.0</td>\n",
       "      <td>0.0</td>\n",
       "      <td>0.0</td>\n",
       "      <td>0.0</td>\n",
       "      <td>0.0</td>\n",
       "      <td>0.0</td>\n",
       "      <td>...</td>\n",
       "      <td>0.0</td>\n",
       "      <td>0.0</td>\n",
       "      <td>0.0</td>\n",
       "      <td>0.0</td>\n",
       "      <td>0.0</td>\n",
       "      <td>0.0</td>\n",
       "      <td>0.0</td>\n",
       "      <td>3250.0</td>\n",
       "      <td>0.0</td>\n",
       "      <td>0.0</td>\n",
       "    </tr>\n",
       "    <tr>\n",
       "      <th>2</th>\n",
       "      <td>107</td>\n",
       "      <td>4.0</td>\n",
       "      <td>1.0</td>\n",
       "      <td>2020-04-28</td>\n",
       "      <td>1.0</td>\n",
       "      <td>0.0</td>\n",
       "      <td>0.0</td>\n",
       "      <td>0.0</td>\n",
       "      <td>0.0</td>\n",
       "      <td>0.0</td>\n",
       "      <td>...</td>\n",
       "      <td>0.0</td>\n",
       "      <td>0.0</td>\n",
       "      <td>0.0</td>\n",
       "      <td>0.0</td>\n",
       "      <td>0.0</td>\n",
       "      <td>0.0</td>\n",
       "      <td>0.0</td>\n",
       "      <td>3080.0</td>\n",
       "      <td>0.0</td>\n",
       "      <td>0.0</td>\n",
       "    </tr>\n",
       "    <tr>\n",
       "      <th>3</th>\n",
       "      <td>107</td>\n",
       "      <td>4.0</td>\n",
       "      <td>1.0</td>\n",
       "      <td>2020-06-28</td>\n",
       "      <td>1.0</td>\n",
       "      <td>0.0</td>\n",
       "      <td>0.0</td>\n",
       "      <td>0.0</td>\n",
       "      <td>0.0</td>\n",
       "      <td>0.0</td>\n",
       "      <td>...</td>\n",
       "      <td>0.0</td>\n",
       "      <td>0.0</td>\n",
       "      <td>0.0</td>\n",
       "      <td>0.0</td>\n",
       "      <td>0.0</td>\n",
       "      <td>0.0</td>\n",
       "      <td>0.0</td>\n",
       "      <td>3080.0</td>\n",
       "      <td>6.0</td>\n",
       "      <td>6.0</td>\n",
       "    </tr>\n",
       "    <tr>\n",
       "      <th>4</th>\n",
       "      <td>107</td>\n",
       "      <td>4.0</td>\n",
       "      <td>1.0</td>\n",
       "      <td>2020-07-28</td>\n",
       "      <td>1.0</td>\n",
       "      <td>0.0</td>\n",
       "      <td>0.0</td>\n",
       "      <td>1.0</td>\n",
       "      <td>0.0</td>\n",
       "      <td>0.0</td>\n",
       "      <td>...</td>\n",
       "      <td>0.0</td>\n",
       "      <td>0.0</td>\n",
       "      <td>0.0</td>\n",
       "      <td>0.0</td>\n",
       "      <td>0.0</td>\n",
       "      <td>0.0</td>\n",
       "      <td>0.0</td>\n",
       "      <td>3080.0</td>\n",
       "      <td>10.0</td>\n",
       "      <td>10.0</td>\n",
       "    </tr>\n",
       "  </tbody>\n",
       "</table>\n",
       "<p>5 rows × 249 columns</p>\n",
       "</div>\n",
       "      <button class=\"colab-df-convert\" onclick=\"convertToInteractive('df-2319a49e-3b96-4aae-a250-c194e801ed0b')\"\n",
       "              title=\"Convert this dataframe to an interactive table.\"\n",
       "              style=\"display:none;\">\n",
       "        \n",
       "  <svg xmlns=\"http://www.w3.org/2000/svg\" height=\"24px\"viewBox=\"0 0 24 24\"\n",
       "       width=\"24px\">\n",
       "    <path d=\"M0 0h24v24H0V0z\" fill=\"none\"/>\n",
       "    <path d=\"M18.56 5.44l.94 2.06.94-2.06 2.06-.94-2.06-.94-.94-2.06-.94 2.06-2.06.94zm-11 1L8.5 8.5l.94-2.06 2.06-.94-2.06-.94L8.5 2.5l-.94 2.06-2.06.94zm10 10l.94 2.06.94-2.06 2.06-.94-2.06-.94-.94-2.06-.94 2.06-2.06.94z\"/><path d=\"M17.41 7.96l-1.37-1.37c-.4-.4-.92-.59-1.43-.59-.52 0-1.04.2-1.43.59L10.3 9.45l-7.72 7.72c-.78.78-.78 2.05 0 2.83L4 21.41c.39.39.9.59 1.41.59.51 0 1.02-.2 1.41-.59l7.78-7.78 2.81-2.81c.8-.78.8-2.07 0-2.86zM5.41 20L4 18.59l7.72-7.72 1.47 1.35L5.41 20z\"/>\n",
       "  </svg>\n",
       "      </button>\n",
       "      \n",
       "  <style>\n",
       "    .colab-df-container {\n",
       "      display:flex;\n",
       "      flex-wrap:wrap;\n",
       "      gap: 12px;\n",
       "    }\n",
       "\n",
       "    .colab-df-convert {\n",
       "      background-color: #E8F0FE;\n",
       "      border: none;\n",
       "      border-radius: 50%;\n",
       "      cursor: pointer;\n",
       "      display: none;\n",
       "      fill: #1967D2;\n",
       "      height: 32px;\n",
       "      padding: 0 0 0 0;\n",
       "      width: 32px;\n",
       "    }\n",
       "\n",
       "    .colab-df-convert:hover {\n",
       "      background-color: #E2EBFA;\n",
       "      box-shadow: 0px 1px 2px rgba(60, 64, 67, 0.3), 0px 1px 3px 1px rgba(60, 64, 67, 0.15);\n",
       "      fill: #174EA6;\n",
       "    }\n",
       "\n",
       "    [theme=dark] .colab-df-convert {\n",
       "      background-color: #3B4455;\n",
       "      fill: #D2E3FC;\n",
       "    }\n",
       "\n",
       "    [theme=dark] .colab-df-convert:hover {\n",
       "      background-color: #434B5C;\n",
       "      box-shadow: 0px 1px 3px 1px rgba(0, 0, 0, 0.15);\n",
       "      filter: drop-shadow(0px 1px 2px rgba(0, 0, 0, 0.3));\n",
       "      fill: #FFFFFF;\n",
       "    }\n",
       "  </style>\n",
       "\n",
       "      <script>\n",
       "        const buttonEl =\n",
       "          document.querySelector('#df-2319a49e-3b96-4aae-a250-c194e801ed0b button.colab-df-convert');\n",
       "        buttonEl.style.display =\n",
       "          google.colab.kernel.accessAllowed ? 'block' : 'none';\n",
       "\n",
       "        async function convertToInteractive(key) {\n",
       "          const element = document.querySelector('#df-2319a49e-3b96-4aae-a250-c194e801ed0b');\n",
       "          const dataTable =\n",
       "            await google.colab.kernel.invokeFunction('convertToInteractive',\n",
       "                                                     [key], {});\n",
       "          if (!dataTable) return;\n",
       "\n",
       "          const docLinkHtml = 'Like what you see? Visit the ' +\n",
       "            '<a target=\"_blank\" href=https://colab.research.google.com/notebooks/data_table.ipynb>data table notebook</a>'\n",
       "            + ' to learn more about interactive tables.';\n",
       "          element.innerHTML = '';\n",
       "          dataTable['output_type'] = 'display_data';\n",
       "          await google.colab.output.renderOutput(dataTable, element);\n",
       "          const docLink = document.createElement('div');\n",
       "          docLink.innerHTML = docLinkHtml;\n",
       "          element.appendChild(docLink);\n",
       "        }\n",
       "      </script>\n",
       "    </div>\n",
       "  </div>\n",
       "  "
      ],
      "text/plain": [
       "   ser_loc  zns_loc  prs_loc  year_month  count_fail  107_repair_count  \\\n",
       "0      107      3.0      1.0  2020-01-28         1.0               0.0   \n",
       "1      107      3.0      1.0  2019-03-28         1.0               0.0   \n",
       "2      107      4.0      1.0  2020-04-28         1.0               0.0   \n",
       "3      107      4.0      1.0  2020-06-28         1.0               0.0   \n",
       "4      107      4.0      1.0  2020-07-28         1.0               0.0   \n",
       "\n",
       "   307_repair_count  308_repair_count  309_repair_count  521_repair_count  \\\n",
       "0               0.0               0.0               0.0               0.0   \n",
       "1               0.0               0.0               0.0               0.0   \n",
       "2               0.0               0.0               0.0               0.0   \n",
       "3               0.0               0.0               0.0               0.0   \n",
       "4               0.0               1.0               0.0               0.0   \n",
       "\n",
       "   ...  тл-2к_y  тл-2к1  эд118а  эд118б  эдп810  эк-810ч  экг-8ж   power  \\\n",
       "0  ...      0.0     0.0     0.0     0.0     0.0      0.0     0.0  3250.0   \n",
       "1  ...      0.0     0.0     0.0     0.0     0.0      0.0     0.0  3250.0   \n",
       "2  ...      0.0     0.0     0.0     0.0     0.0      0.0     0.0  3080.0   \n",
       "3  ...      0.0     0.0     0.0     0.0     0.0      0.0     0.0  3080.0   \n",
       "4  ...      0.0     0.0     0.0     0.0     0.0      0.0     0.0  3080.0   \n",
       "\n",
       "   last_of_p_data  last_of_in_invent  \n",
       "0             0.0                0.0  \n",
       "1             0.0                0.0  \n",
       "2             0.0                0.0  \n",
       "3             6.0                6.0  \n",
       "4            10.0               10.0  \n",
       "\n",
       "[5 rows x 249 columns]"
      ]
     },
     "execution_count": 6,
     "metadata": {},
     "output_type": "execute_result"
    }
   ],
   "source": [
    "data.head()"
   ]
  },
  {
   "cell_type": "code",
   "execution_count": 7,
   "metadata": {
    "colab": {
     "base_uri": "https://localhost:8080/",
     "height": 206
    },
    "id": "zu_w_fWDBzAX",
    "outputId": "177d418d-05ee-429e-911e-6b95ca20c88b"
   },
   "outputs": [
    {
     "data": {
      "text/html": [
       "\n",
       "  <div id=\"df-606d6439-057e-468c-96dd-39485b1e4f2d\">\n",
       "    <div class=\"colab-df-container\">\n",
       "      <div>\n",
       "<style scoped>\n",
       "    .dataframe tbody tr th:only-of-type {\n",
       "        vertical-align: middle;\n",
       "    }\n",
       "\n",
       "    .dataframe tbody tr th {\n",
       "        vertical-align: top;\n",
       "    }\n",
       "\n",
       "    .dataframe thead th {\n",
       "        text-align: right;\n",
       "    }\n",
       "</style>\n",
       "<table border=\"1\" class=\"dataframe\">\n",
       "  <thead>\n",
       "    <tr style=\"text-align: right;\">\n",
       "      <th></th>\n",
       "      <th>ser_loc</th>\n",
       "      <th>zns_loc</th>\n",
       "      <th>prs_loc</th>\n",
       "      <th>year_month</th>\n",
       "      <th>fail_place</th>\n",
       "      <th>fail_reason</th>\n",
       "      <th>fail_type</th>\n",
       "      <th>day</th>\n",
       "    </tr>\n",
       "  </thead>\n",
       "  <tbody>\n",
       "    <tr>\n",
       "      <th>0</th>\n",
       "      <td>134</td>\n",
       "      <td>171.0</td>\n",
       "      <td>1.0</td>\n",
       "      <td>2021-01</td>\n",
       "      <td>Дуриан</td>\n",
       "      <td>Момордика</td>\n",
       "      <td>Мармеладный плод</td>\n",
       "      <td>12</td>\n",
       "    </tr>\n",
       "    <tr>\n",
       "      <th>3</th>\n",
       "      <td>134</td>\n",
       "      <td>166.0</td>\n",
       "      <td>1.0</td>\n",
       "      <td>2021-01</td>\n",
       "      <td>Маракуйя</td>\n",
       "      <td>Либерика</td>\n",
       "      <td>Салакка</td>\n",
       "      <td>12</td>\n",
       "    </tr>\n",
       "    <tr>\n",
       "      <th>4</th>\n",
       "      <td>240</td>\n",
       "      <td>1068.0</td>\n",
       "      <td>1.0</td>\n",
       "      <td>2021-01</td>\n",
       "      <td>Земляной орех</td>\n",
       "      <td>Абрикос</td>\n",
       "      <td>Пара-гуайява</td>\n",
       "      <td>5</td>\n",
       "    </tr>\n",
       "    <tr>\n",
       "      <th>7</th>\n",
       "      <td>240</td>\n",
       "      <td>2200.0</td>\n",
       "      <td>1.0</td>\n",
       "      <td>2021-01</td>\n",
       "      <td>Маракуйя</td>\n",
       "      <td>Гранат</td>\n",
       "      <td>Мармеладный плод</td>\n",
       "      <td>17</td>\n",
       "    </tr>\n",
       "    <tr>\n",
       "      <th>9</th>\n",
       "      <td>240</td>\n",
       "      <td>2734.0</td>\n",
       "      <td>1.0</td>\n",
       "      <td>2021-01</td>\n",
       "      <td>Земляной орех</td>\n",
       "      <td>Бананы</td>\n",
       "      <td>Гнетум гнемон</td>\n",
       "      <td>4</td>\n",
       "    </tr>\n",
       "  </tbody>\n",
       "</table>\n",
       "</div>\n",
       "      <button class=\"colab-df-convert\" onclick=\"convertToInteractive('df-606d6439-057e-468c-96dd-39485b1e4f2d')\"\n",
       "              title=\"Convert this dataframe to an interactive table.\"\n",
       "              style=\"display:none;\">\n",
       "        \n",
       "  <svg xmlns=\"http://www.w3.org/2000/svg\" height=\"24px\"viewBox=\"0 0 24 24\"\n",
       "       width=\"24px\">\n",
       "    <path d=\"M0 0h24v24H0V0z\" fill=\"none\"/>\n",
       "    <path d=\"M18.56 5.44l.94 2.06.94-2.06 2.06-.94-2.06-.94-.94-2.06-.94 2.06-2.06.94zm-11 1L8.5 8.5l.94-2.06 2.06-.94-2.06-.94L8.5 2.5l-.94 2.06-2.06.94zm10 10l.94 2.06.94-2.06 2.06-.94-2.06-.94-.94-2.06-.94 2.06-2.06.94z\"/><path d=\"M17.41 7.96l-1.37-1.37c-.4-.4-.92-.59-1.43-.59-.52 0-1.04.2-1.43.59L10.3 9.45l-7.72 7.72c-.78.78-.78 2.05 0 2.83L4 21.41c.39.39.9.59 1.41.59.51 0 1.02-.2 1.41-.59l7.78-7.78 2.81-2.81c.8-.78.8-2.07 0-2.86zM5.41 20L4 18.59l7.72-7.72 1.47 1.35L5.41 20z\"/>\n",
       "  </svg>\n",
       "      </button>\n",
       "      \n",
       "  <style>\n",
       "    .colab-df-container {\n",
       "      display:flex;\n",
       "      flex-wrap:wrap;\n",
       "      gap: 12px;\n",
       "    }\n",
       "\n",
       "    .colab-df-convert {\n",
       "      background-color: #E8F0FE;\n",
       "      border: none;\n",
       "      border-radius: 50%;\n",
       "      cursor: pointer;\n",
       "      display: none;\n",
       "      fill: #1967D2;\n",
       "      height: 32px;\n",
       "      padding: 0 0 0 0;\n",
       "      width: 32px;\n",
       "    }\n",
       "\n",
       "    .colab-df-convert:hover {\n",
       "      background-color: #E2EBFA;\n",
       "      box-shadow: 0px 1px 2px rgba(60, 64, 67, 0.3), 0px 1px 3px 1px rgba(60, 64, 67, 0.15);\n",
       "      fill: #174EA6;\n",
       "    }\n",
       "\n",
       "    [theme=dark] .colab-df-convert {\n",
       "      background-color: #3B4455;\n",
       "      fill: #D2E3FC;\n",
       "    }\n",
       "\n",
       "    [theme=dark] .colab-df-convert:hover {\n",
       "      background-color: #434B5C;\n",
       "      box-shadow: 0px 1px 3px 1px rgba(0, 0, 0, 0.15);\n",
       "      filter: drop-shadow(0px 1px 2px rgba(0, 0, 0, 0.3));\n",
       "      fill: #FFFFFF;\n",
       "    }\n",
       "  </style>\n",
       "\n",
       "      <script>\n",
       "        const buttonEl =\n",
       "          document.querySelector('#df-606d6439-057e-468c-96dd-39485b1e4f2d button.colab-df-convert');\n",
       "        buttonEl.style.display =\n",
       "          google.colab.kernel.accessAllowed ? 'block' : 'none';\n",
       "\n",
       "        async function convertToInteractive(key) {\n",
       "          const element = document.querySelector('#df-606d6439-057e-468c-96dd-39485b1e4f2d');\n",
       "          const dataTable =\n",
       "            await google.colab.kernel.invokeFunction('convertToInteractive',\n",
       "                                                     [key], {});\n",
       "          if (!dataTable) return;\n",
       "\n",
       "          const docLinkHtml = 'Like what you see? Visit the ' +\n",
       "            '<a target=\"_blank\" href=https://colab.research.google.com/notebooks/data_table.ipynb>data table notebook</a>'\n",
       "            + ' to learn more about interactive tables.';\n",
       "          element.innerHTML = '';\n",
       "          dataTable['output_type'] = 'display_data';\n",
       "          await google.colab.output.renderOutput(dataTable, element);\n",
       "          const docLink = document.createElement('div');\n",
       "          docLink.innerHTML = docLinkHtml;\n",
       "          element.appendChild(docLink);\n",
       "        }\n",
       "      </script>\n",
       "    </div>\n",
       "  </div>\n",
       "  "
      ],
      "text/plain": [
       "   ser_loc  zns_loc  prs_loc year_month     fail_place fail_reason  \\\n",
       "0      134    171.0      1.0    2021-01         Дуриан   Момордика   \n",
       "3      134    166.0      1.0    2021-01       Маракуйя    Либерика   \n",
       "4      240   1068.0      1.0    2021-01  Земляной орех     Абрикос   \n",
       "7      240   2200.0      1.0    2021-01       Маракуйя      Гранат   \n",
       "9      240   2734.0      1.0    2021-01  Земляной орех      Бананы   \n",
       "\n",
       "          fail_type  day  \n",
       "0  Мармеладный плод   12  \n",
       "3           Салакка   12  \n",
       "4      Пара-гуайява    5  \n",
       "7  Мармеладный плод   17  \n",
       "9     Гнетум гнемон    4  "
      ]
     },
     "execution_count": 7,
     "metadata": {},
     "output_type": "execute_result"
    }
   ],
   "source": [
    "goal.head()"
   ]
  },
  {
   "cell_type": "markdown",
   "metadata": {
    "id": "LKG74WBkB9RM"
   },
   "source": [
    "#Выделяем целевой массив"
   ]
  },
  {
   "cell_type": "code",
   "execution_count": 8,
   "metadata": {
    "colab": {
     "base_uri": "https://localhost:8080/"
    },
    "id": "iq5gih9jWDsJ",
    "outputId": "5001e73a-d56d-46e9-ab0f-65e1454f0cfc"
   },
   "outputs": [
    {
     "name": "stdout",
     "output_type": "stream",
     "text": [
      "        ser_loc  zns_loc  prs_loc year_month fail_place  \\\n",
      "811         240   2742.0      1.0    2021-01  Карамбола   \n",
      "826         244    157.0      1.0    2021-01  Карамбола   \n",
      "1035        240   2524.0      2.0    2021-01  Карамбола   \n",
      "1724        145    990.0      1.0    2021-01  Карамбола   \n",
      "3315        240    356.0      1.0    2021-02  Карамбола   \n",
      "...         ...      ...      ...        ...        ...   \n",
      "146409      145    284.0      1.0    2018-09  Карамбола   \n",
      "146706      145    513.0      1.0    2018-09  Карамбола   \n",
      "146779      145    573.0      1.0    2018-09  Карамбола   \n",
      "146865      145    445.0      1.0    2018-09  Карамбола   \n",
      "147188      145    575.0      1.0    2018-09  Карамбола   \n",
      "\n",
      "                          fail_reason         fail_type  day  \n",
      "811     Барбадин (Большая гранадилла)        Помпельмус    5  \n",
      "826     Барбадин (Большая гранадилла)        Помпельмус   12  \n",
      "1035    Барбадин (Большая гранадилла)        Помпельмус   21  \n",
      "1724    Барбадин (Большая гранадилла)        Помпельмус   26  \n",
      "3315    Барбадин (Большая гранадилла)      Пара-гуайява    3  \n",
      "...                               ...               ...  ...  \n",
      "146409  Барбадин (Большая гранадилла)  Мармеладный плод   26  \n",
      "146706  Барбадин (Большая гранадилла)  Мармеладный плод    4  \n",
      "146779  Барбадин (Большая гранадилла)  Мармеладный плод    8  \n",
      "146865  Барбадин (Большая гранадилла)  Мармеладный плод    3  \n",
      "147188  Барбадин (Большая гранадилла)      Пара-гуайява    9  \n",
      "\n",
      "[658 rows x 8 columns]\n"
     ]
    }
   ],
   "source": [
    "goal = goal[goal['fail_reason'] == 'Барбадин (Большая гранадилла)']\n",
    "print(goal)"
   ]
  },
  {
   "cell_type": "markdown",
   "metadata": {
    "id": "o74Rm9CJCLbB"
   },
   "source": [
    "#Готовим данные к объединению"
   ]
  },
  {
   "cell_type": "code",
   "execution_count": 9,
   "metadata": {
    "colab": {
     "base_uri": "https://localhost:8080/"
    },
    "id": "UXFqKQpvnssd",
    "outputId": "484b4a7a-3214-4529-d7a1-f0e8a4aa9963"
   },
   "outputs": [
    {
     "name": "stderr",
     "output_type": "stream",
     "text": [
      "<ipython-input-9-1421ae58db84>:1: SettingWithCopyWarning: \n",
      "A value is trying to be set on a copy of a slice from a DataFrame.\n",
      "Try using .loc[row_indexer,col_indexer] = value instead\n",
      "\n",
      "See the caveats in the documentation: https://pandas.pydata.org/pandas-docs/stable/user_guide/indexing.html#returning-a-view-versus-a-copy\n",
      "  goal['year_month'] = pd.to_datetime(goal['year_month'])\n"
     ]
    }
   ],
   "source": [
    "goal['year_month'] = pd.to_datetime(goal['year_month'])"
   ]
  },
  {
   "cell_type": "code",
   "execution_count": 10,
   "metadata": {
    "colab": {
     "base_uri": "https://localhost:8080/",
     "height": 299
    },
    "id": "1KtGCXa_WDua",
    "outputId": "473209ca-0f61-408b-ada0-324c8333adda"
   },
   "outputs": [
    {
     "data": {
      "text/html": [
       "\n",
       "  <div id=\"df-4210938e-0ef3-4e27-975a-d0a16aa2a400\">\n",
       "    <div class=\"colab-df-container\">\n",
       "      <div>\n",
       "<style scoped>\n",
       "    .dataframe tbody tr th:only-of-type {\n",
       "        vertical-align: middle;\n",
       "    }\n",
       "\n",
       "    .dataframe tbody tr th {\n",
       "        vertical-align: top;\n",
       "    }\n",
       "\n",
       "    .dataframe thead th {\n",
       "        text-align: right;\n",
       "    }\n",
       "</style>\n",
       "<table border=\"1\" class=\"dataframe\">\n",
       "  <thead>\n",
       "    <tr style=\"text-align: right;\">\n",
       "      <th></th>\n",
       "      <th>ser_loc</th>\n",
       "      <th>zns_loc</th>\n",
       "      <th>prs_loc</th>\n",
       "      <th>year_month</th>\n",
       "      <th>count_fail</th>\n",
       "      <th>107_repair_count</th>\n",
       "      <th>307_repair_count</th>\n",
       "      <th>308_repair_count</th>\n",
       "      <th>309_repair_count</th>\n",
       "      <th>521_repair_count</th>\n",
       "      <th>...</th>\n",
       "      <th>тл-2к_y</th>\n",
       "      <th>тл-2к1</th>\n",
       "      <th>эд118а</th>\n",
       "      <th>эд118б</th>\n",
       "      <th>эдп810</th>\n",
       "      <th>эк-810ч</th>\n",
       "      <th>экг-8ж</th>\n",
       "      <th>power</th>\n",
       "      <th>last_of_p_data</th>\n",
       "      <th>last_of_in_invent</th>\n",
       "    </tr>\n",
       "  </thead>\n",
       "  <tbody>\n",
       "    <tr>\n",
       "      <th>0</th>\n",
       "      <td>107</td>\n",
       "      <td>3.0</td>\n",
       "      <td>1.0</td>\n",
       "      <td>2020-01</td>\n",
       "      <td>1.0</td>\n",
       "      <td>0.0</td>\n",
       "      <td>0.0</td>\n",
       "      <td>0.0</td>\n",
       "      <td>0.0</td>\n",
       "      <td>0.0</td>\n",
       "      <td>...</td>\n",
       "      <td>0.0</td>\n",
       "      <td>0.0</td>\n",
       "      <td>0.0</td>\n",
       "      <td>0.0</td>\n",
       "      <td>0.0</td>\n",
       "      <td>0.0</td>\n",
       "      <td>0.0</td>\n",
       "      <td>3250.0</td>\n",
       "      <td>0.0</td>\n",
       "      <td>0.0</td>\n",
       "    </tr>\n",
       "    <tr>\n",
       "      <th>1</th>\n",
       "      <td>107</td>\n",
       "      <td>3.0</td>\n",
       "      <td>1.0</td>\n",
       "      <td>2019-03</td>\n",
       "      <td>1.0</td>\n",
       "      <td>0.0</td>\n",
       "      <td>0.0</td>\n",
       "      <td>0.0</td>\n",
       "      <td>0.0</td>\n",
       "      <td>0.0</td>\n",
       "      <td>...</td>\n",
       "      <td>0.0</td>\n",
       "      <td>0.0</td>\n",
       "      <td>0.0</td>\n",
       "      <td>0.0</td>\n",
       "      <td>0.0</td>\n",
       "      <td>0.0</td>\n",
       "      <td>0.0</td>\n",
       "      <td>3250.0</td>\n",
       "      <td>0.0</td>\n",
       "      <td>0.0</td>\n",
       "    </tr>\n",
       "    <tr>\n",
       "      <th>2</th>\n",
       "      <td>107</td>\n",
       "      <td>4.0</td>\n",
       "      <td>1.0</td>\n",
       "      <td>2020-04</td>\n",
       "      <td>1.0</td>\n",
       "      <td>0.0</td>\n",
       "      <td>0.0</td>\n",
       "      <td>0.0</td>\n",
       "      <td>0.0</td>\n",
       "      <td>0.0</td>\n",
       "      <td>...</td>\n",
       "      <td>0.0</td>\n",
       "      <td>0.0</td>\n",
       "      <td>0.0</td>\n",
       "      <td>0.0</td>\n",
       "      <td>0.0</td>\n",
       "      <td>0.0</td>\n",
       "      <td>0.0</td>\n",
       "      <td>3080.0</td>\n",
       "      <td>0.0</td>\n",
       "      <td>0.0</td>\n",
       "    </tr>\n",
       "    <tr>\n",
       "      <th>3</th>\n",
       "      <td>107</td>\n",
       "      <td>4.0</td>\n",
       "      <td>1.0</td>\n",
       "      <td>2020-06</td>\n",
       "      <td>1.0</td>\n",
       "      <td>0.0</td>\n",
       "      <td>0.0</td>\n",
       "      <td>0.0</td>\n",
       "      <td>0.0</td>\n",
       "      <td>0.0</td>\n",
       "      <td>...</td>\n",
       "      <td>0.0</td>\n",
       "      <td>0.0</td>\n",
       "      <td>0.0</td>\n",
       "      <td>0.0</td>\n",
       "      <td>0.0</td>\n",
       "      <td>0.0</td>\n",
       "      <td>0.0</td>\n",
       "      <td>3080.0</td>\n",
       "      <td>6.0</td>\n",
       "      <td>6.0</td>\n",
       "    </tr>\n",
       "    <tr>\n",
       "      <th>4</th>\n",
       "      <td>107</td>\n",
       "      <td>4.0</td>\n",
       "      <td>1.0</td>\n",
       "      <td>2020-07</td>\n",
       "      <td>1.0</td>\n",
       "      <td>0.0</td>\n",
       "      <td>0.0</td>\n",
       "      <td>1.0</td>\n",
       "      <td>0.0</td>\n",
       "      <td>0.0</td>\n",
       "      <td>...</td>\n",
       "      <td>0.0</td>\n",
       "      <td>0.0</td>\n",
       "      <td>0.0</td>\n",
       "      <td>0.0</td>\n",
       "      <td>0.0</td>\n",
       "      <td>0.0</td>\n",
       "      <td>0.0</td>\n",
       "      <td>3080.0</td>\n",
       "      <td>10.0</td>\n",
       "      <td>10.0</td>\n",
       "    </tr>\n",
       "  </tbody>\n",
       "</table>\n",
       "<p>5 rows × 249 columns</p>\n",
       "</div>\n",
       "      <button class=\"colab-df-convert\" onclick=\"convertToInteractive('df-4210938e-0ef3-4e27-975a-d0a16aa2a400')\"\n",
       "              title=\"Convert this dataframe to an interactive table.\"\n",
       "              style=\"display:none;\">\n",
       "        \n",
       "  <svg xmlns=\"http://www.w3.org/2000/svg\" height=\"24px\"viewBox=\"0 0 24 24\"\n",
       "       width=\"24px\">\n",
       "    <path d=\"M0 0h24v24H0V0z\" fill=\"none\"/>\n",
       "    <path d=\"M18.56 5.44l.94 2.06.94-2.06 2.06-.94-2.06-.94-.94-2.06-.94 2.06-2.06.94zm-11 1L8.5 8.5l.94-2.06 2.06-.94-2.06-.94L8.5 2.5l-.94 2.06-2.06.94zm10 10l.94 2.06.94-2.06 2.06-.94-2.06-.94-.94-2.06-.94 2.06-2.06.94z\"/><path d=\"M17.41 7.96l-1.37-1.37c-.4-.4-.92-.59-1.43-.59-.52 0-1.04.2-1.43.59L10.3 9.45l-7.72 7.72c-.78.78-.78 2.05 0 2.83L4 21.41c.39.39.9.59 1.41.59.51 0 1.02-.2 1.41-.59l7.78-7.78 2.81-2.81c.8-.78.8-2.07 0-2.86zM5.41 20L4 18.59l7.72-7.72 1.47 1.35L5.41 20z\"/>\n",
       "  </svg>\n",
       "      </button>\n",
       "      \n",
       "  <style>\n",
       "    .colab-df-container {\n",
       "      display:flex;\n",
       "      flex-wrap:wrap;\n",
       "      gap: 12px;\n",
       "    }\n",
       "\n",
       "    .colab-df-convert {\n",
       "      background-color: #E8F0FE;\n",
       "      border: none;\n",
       "      border-radius: 50%;\n",
       "      cursor: pointer;\n",
       "      display: none;\n",
       "      fill: #1967D2;\n",
       "      height: 32px;\n",
       "      padding: 0 0 0 0;\n",
       "      width: 32px;\n",
       "    }\n",
       "\n",
       "    .colab-df-convert:hover {\n",
       "      background-color: #E2EBFA;\n",
       "      box-shadow: 0px 1px 2px rgba(60, 64, 67, 0.3), 0px 1px 3px 1px rgba(60, 64, 67, 0.15);\n",
       "      fill: #174EA6;\n",
       "    }\n",
       "\n",
       "    [theme=dark] .colab-df-convert {\n",
       "      background-color: #3B4455;\n",
       "      fill: #D2E3FC;\n",
       "    }\n",
       "\n",
       "    [theme=dark] .colab-df-convert:hover {\n",
       "      background-color: #434B5C;\n",
       "      box-shadow: 0px 1px 3px 1px rgba(0, 0, 0, 0.15);\n",
       "      filter: drop-shadow(0px 1px 2px rgba(0, 0, 0, 0.3));\n",
       "      fill: #FFFFFF;\n",
       "    }\n",
       "  </style>\n",
       "\n",
       "      <script>\n",
       "        const buttonEl =\n",
       "          document.querySelector('#df-4210938e-0ef3-4e27-975a-d0a16aa2a400 button.colab-df-convert');\n",
       "        buttonEl.style.display =\n",
       "          google.colab.kernel.accessAllowed ? 'block' : 'none';\n",
       "\n",
       "        async function convertToInteractive(key) {\n",
       "          const element = document.querySelector('#df-4210938e-0ef3-4e27-975a-d0a16aa2a400');\n",
       "          const dataTable =\n",
       "            await google.colab.kernel.invokeFunction('convertToInteractive',\n",
       "                                                     [key], {});\n",
       "          if (!dataTable) return;\n",
       "\n",
       "          const docLinkHtml = 'Like what you see? Visit the ' +\n",
       "            '<a target=\"_blank\" href=https://colab.research.google.com/notebooks/data_table.ipynb>data table notebook</a>'\n",
       "            + ' to learn more about interactive tables.';\n",
       "          element.innerHTML = '';\n",
       "          dataTable['output_type'] = 'display_data';\n",
       "          await google.colab.output.renderOutput(dataTable, element);\n",
       "          const docLink = document.createElement('div');\n",
       "          docLink.innerHTML = docLinkHtml;\n",
       "          element.appendChild(docLink);\n",
       "        }\n",
       "      </script>\n",
       "    </div>\n",
       "  </div>\n",
       "  "
      ],
      "text/plain": [
       "   ser_loc  zns_loc  prs_loc year_month  count_fail  107_repair_count  \\\n",
       "0      107      3.0      1.0    2020-01         1.0               0.0   \n",
       "1      107      3.0      1.0    2019-03         1.0               0.0   \n",
       "2      107      4.0      1.0    2020-04         1.0               0.0   \n",
       "3      107      4.0      1.0    2020-06         1.0               0.0   \n",
       "4      107      4.0      1.0    2020-07         1.0               0.0   \n",
       "\n",
       "   307_repair_count  308_repair_count  309_repair_count  521_repair_count  \\\n",
       "0               0.0               0.0               0.0               0.0   \n",
       "1               0.0               0.0               0.0               0.0   \n",
       "2               0.0               0.0               0.0               0.0   \n",
       "3               0.0               0.0               0.0               0.0   \n",
       "4               0.0               1.0               0.0               0.0   \n",
       "\n",
       "   ...  тл-2к_y  тл-2к1  эд118а  эд118б  эдп810  эк-810ч  экг-8ж   power  \\\n",
       "0  ...      0.0     0.0     0.0     0.0     0.0      0.0     0.0  3250.0   \n",
       "1  ...      0.0     0.0     0.0     0.0     0.0      0.0     0.0  3250.0   \n",
       "2  ...      0.0     0.0     0.0     0.0     0.0      0.0     0.0  3080.0   \n",
       "3  ...      0.0     0.0     0.0     0.0     0.0      0.0     0.0  3080.0   \n",
       "4  ...      0.0     0.0     0.0     0.0     0.0      0.0     0.0  3080.0   \n",
       "\n",
       "   last_of_p_data  last_of_in_invent  \n",
       "0             0.0                0.0  \n",
       "1             0.0                0.0  \n",
       "2             0.0                0.0  \n",
       "3             6.0                6.0  \n",
       "4            10.0               10.0  \n",
       "\n",
       "[5 rows x 249 columns]"
      ]
     },
     "execution_count": 10,
     "metadata": {},
     "output_type": "execute_result"
    }
   ],
   "source": [
    "goal = goal[['ser_loc','zns_loc','prs_loc','year_month', 'day']]\n",
    "\n",
    "goal['day'] = [int(x) for x in goal['day']]\n",
    "\n",
    "data['year_month'] = pd.to_datetime(data['year_month'], format='%Y-%m')\n",
    "goal['year_month'] = pd.to_datetime(goal['year_month'], format='%Y-%m')\n",
    "\n",
    "data['year_month'] = data['year_month'].dt.to_period('M')\n",
    "goal['year_month'] = goal['year_month'].dt.to_period('M')\n",
    "\n",
    "data.head()"
   ]
  },
  {
   "cell_type": "markdown",
   "metadata": {
    "id": "muPiUXfDCqrv"
   },
   "source": [
    "#Объединяем массивы"
   ]
  },
  {
   "cell_type": "code",
   "execution_count": 11,
   "metadata": {
    "colab": {
     "base_uri": "https://localhost:8080/",
     "height": 299
    },
    "id": "8Df8bzJoWDxz",
    "outputId": "630aa3eb-33d1-4088-c6e7-9f59e2349cc6"
   },
   "outputs": [
    {
     "data": {
      "text/html": [
       "\n",
       "  <div id=\"df-0cf1e150-8c72-4257-b033-c601c9cca6db\">\n",
       "    <div class=\"colab-df-container\">\n",
       "      <div>\n",
       "<style scoped>\n",
       "    .dataframe tbody tr th:only-of-type {\n",
       "        vertical-align: middle;\n",
       "    }\n",
       "\n",
       "    .dataframe tbody tr th {\n",
       "        vertical-align: top;\n",
       "    }\n",
       "\n",
       "    .dataframe thead th {\n",
       "        text-align: right;\n",
       "    }\n",
       "</style>\n",
       "<table border=\"1\" class=\"dataframe\">\n",
       "  <thead>\n",
       "    <tr style=\"text-align: right;\">\n",
       "      <th></th>\n",
       "      <th>ser_loc</th>\n",
       "      <th>zns_loc</th>\n",
       "      <th>prs_loc</th>\n",
       "      <th>year_month</th>\n",
       "      <th>count_fail</th>\n",
       "      <th>107_repair_count</th>\n",
       "      <th>307_repair_count</th>\n",
       "      <th>308_repair_count</th>\n",
       "      <th>309_repair_count</th>\n",
       "      <th>521_repair_count</th>\n",
       "      <th>...</th>\n",
       "      <th>тл-2к1</th>\n",
       "      <th>эд118а</th>\n",
       "      <th>эд118б</th>\n",
       "      <th>эдп810</th>\n",
       "      <th>эк-810ч</th>\n",
       "      <th>экг-8ж</th>\n",
       "      <th>power</th>\n",
       "      <th>last_of_p_data</th>\n",
       "      <th>last_of_in_invent</th>\n",
       "      <th>day</th>\n",
       "    </tr>\n",
       "  </thead>\n",
       "  <tbody>\n",
       "    <tr>\n",
       "      <th>0</th>\n",
       "      <td>107</td>\n",
       "      <td>3.0</td>\n",
       "      <td>1.0</td>\n",
       "      <td>2020-01</td>\n",
       "      <td>1.0</td>\n",
       "      <td>0.0</td>\n",
       "      <td>0.0</td>\n",
       "      <td>0.0</td>\n",
       "      <td>0.0</td>\n",
       "      <td>0.0</td>\n",
       "      <td>...</td>\n",
       "      <td>0.0</td>\n",
       "      <td>0.0</td>\n",
       "      <td>0.0</td>\n",
       "      <td>0.0</td>\n",
       "      <td>0.0</td>\n",
       "      <td>0.0</td>\n",
       "      <td>3250.0</td>\n",
       "      <td>0.0</td>\n",
       "      <td>0.0</td>\n",
       "      <td>NaN</td>\n",
       "    </tr>\n",
       "    <tr>\n",
       "      <th>1</th>\n",
       "      <td>107</td>\n",
       "      <td>3.0</td>\n",
       "      <td>1.0</td>\n",
       "      <td>2019-03</td>\n",
       "      <td>1.0</td>\n",
       "      <td>0.0</td>\n",
       "      <td>0.0</td>\n",
       "      <td>0.0</td>\n",
       "      <td>0.0</td>\n",
       "      <td>0.0</td>\n",
       "      <td>...</td>\n",
       "      <td>0.0</td>\n",
       "      <td>0.0</td>\n",
       "      <td>0.0</td>\n",
       "      <td>0.0</td>\n",
       "      <td>0.0</td>\n",
       "      <td>0.0</td>\n",
       "      <td>3250.0</td>\n",
       "      <td>0.0</td>\n",
       "      <td>0.0</td>\n",
       "      <td>NaN</td>\n",
       "    </tr>\n",
       "    <tr>\n",
       "      <th>2</th>\n",
       "      <td>107</td>\n",
       "      <td>4.0</td>\n",
       "      <td>1.0</td>\n",
       "      <td>2020-04</td>\n",
       "      <td>1.0</td>\n",
       "      <td>0.0</td>\n",
       "      <td>0.0</td>\n",
       "      <td>0.0</td>\n",
       "      <td>0.0</td>\n",
       "      <td>0.0</td>\n",
       "      <td>...</td>\n",
       "      <td>0.0</td>\n",
       "      <td>0.0</td>\n",
       "      <td>0.0</td>\n",
       "      <td>0.0</td>\n",
       "      <td>0.0</td>\n",
       "      <td>0.0</td>\n",
       "      <td>3080.0</td>\n",
       "      <td>0.0</td>\n",
       "      <td>0.0</td>\n",
       "      <td>NaN</td>\n",
       "    </tr>\n",
       "    <tr>\n",
       "      <th>3</th>\n",
       "      <td>107</td>\n",
       "      <td>4.0</td>\n",
       "      <td>1.0</td>\n",
       "      <td>2020-06</td>\n",
       "      <td>1.0</td>\n",
       "      <td>0.0</td>\n",
       "      <td>0.0</td>\n",
       "      <td>0.0</td>\n",
       "      <td>0.0</td>\n",
       "      <td>0.0</td>\n",
       "      <td>...</td>\n",
       "      <td>0.0</td>\n",
       "      <td>0.0</td>\n",
       "      <td>0.0</td>\n",
       "      <td>0.0</td>\n",
       "      <td>0.0</td>\n",
       "      <td>0.0</td>\n",
       "      <td>3080.0</td>\n",
       "      <td>6.0</td>\n",
       "      <td>6.0</td>\n",
       "      <td>NaN</td>\n",
       "    </tr>\n",
       "    <tr>\n",
       "      <th>4</th>\n",
       "      <td>107</td>\n",
       "      <td>4.0</td>\n",
       "      <td>1.0</td>\n",
       "      <td>2020-07</td>\n",
       "      <td>1.0</td>\n",
       "      <td>0.0</td>\n",
       "      <td>0.0</td>\n",
       "      <td>1.0</td>\n",
       "      <td>0.0</td>\n",
       "      <td>0.0</td>\n",
       "      <td>...</td>\n",
       "      <td>0.0</td>\n",
       "      <td>0.0</td>\n",
       "      <td>0.0</td>\n",
       "      <td>0.0</td>\n",
       "      <td>0.0</td>\n",
       "      <td>0.0</td>\n",
       "      <td>3080.0</td>\n",
       "      <td>10.0</td>\n",
       "      <td>10.0</td>\n",
       "      <td>NaN</td>\n",
       "    </tr>\n",
       "  </tbody>\n",
       "</table>\n",
       "<p>5 rows × 250 columns</p>\n",
       "</div>\n",
       "      <button class=\"colab-df-convert\" onclick=\"convertToInteractive('df-0cf1e150-8c72-4257-b033-c601c9cca6db')\"\n",
       "              title=\"Convert this dataframe to an interactive table.\"\n",
       "              style=\"display:none;\">\n",
       "        \n",
       "  <svg xmlns=\"http://www.w3.org/2000/svg\" height=\"24px\"viewBox=\"0 0 24 24\"\n",
       "       width=\"24px\">\n",
       "    <path d=\"M0 0h24v24H0V0z\" fill=\"none\"/>\n",
       "    <path d=\"M18.56 5.44l.94 2.06.94-2.06 2.06-.94-2.06-.94-.94-2.06-.94 2.06-2.06.94zm-11 1L8.5 8.5l.94-2.06 2.06-.94-2.06-.94L8.5 2.5l-.94 2.06-2.06.94zm10 10l.94 2.06.94-2.06 2.06-.94-2.06-.94-.94-2.06-.94 2.06-2.06.94z\"/><path d=\"M17.41 7.96l-1.37-1.37c-.4-.4-.92-.59-1.43-.59-.52 0-1.04.2-1.43.59L10.3 9.45l-7.72 7.72c-.78.78-.78 2.05 0 2.83L4 21.41c.39.39.9.59 1.41.59.51 0 1.02-.2 1.41-.59l7.78-7.78 2.81-2.81c.8-.78.8-2.07 0-2.86zM5.41 20L4 18.59l7.72-7.72 1.47 1.35L5.41 20z\"/>\n",
       "  </svg>\n",
       "      </button>\n",
       "      \n",
       "  <style>\n",
       "    .colab-df-container {\n",
       "      display:flex;\n",
       "      flex-wrap:wrap;\n",
       "      gap: 12px;\n",
       "    }\n",
       "\n",
       "    .colab-df-convert {\n",
       "      background-color: #E8F0FE;\n",
       "      border: none;\n",
       "      border-radius: 50%;\n",
       "      cursor: pointer;\n",
       "      display: none;\n",
       "      fill: #1967D2;\n",
       "      height: 32px;\n",
       "      padding: 0 0 0 0;\n",
       "      width: 32px;\n",
       "    }\n",
       "\n",
       "    .colab-df-convert:hover {\n",
       "      background-color: #E2EBFA;\n",
       "      box-shadow: 0px 1px 2px rgba(60, 64, 67, 0.3), 0px 1px 3px 1px rgba(60, 64, 67, 0.15);\n",
       "      fill: #174EA6;\n",
       "    }\n",
       "\n",
       "    [theme=dark] .colab-df-convert {\n",
       "      background-color: #3B4455;\n",
       "      fill: #D2E3FC;\n",
       "    }\n",
       "\n",
       "    [theme=dark] .colab-df-convert:hover {\n",
       "      background-color: #434B5C;\n",
       "      box-shadow: 0px 1px 3px 1px rgba(0, 0, 0, 0.15);\n",
       "      filter: drop-shadow(0px 1px 2px rgba(0, 0, 0, 0.3));\n",
       "      fill: #FFFFFF;\n",
       "    }\n",
       "  </style>\n",
       "\n",
       "      <script>\n",
       "        const buttonEl =\n",
       "          document.querySelector('#df-0cf1e150-8c72-4257-b033-c601c9cca6db button.colab-df-convert');\n",
       "        buttonEl.style.display =\n",
       "          google.colab.kernel.accessAllowed ? 'block' : 'none';\n",
       "\n",
       "        async function convertToInteractive(key) {\n",
       "          const element = document.querySelector('#df-0cf1e150-8c72-4257-b033-c601c9cca6db');\n",
       "          const dataTable =\n",
       "            await google.colab.kernel.invokeFunction('convertToInteractive',\n",
       "                                                     [key], {});\n",
       "          if (!dataTable) return;\n",
       "\n",
       "          const docLinkHtml = 'Like what you see? Visit the ' +\n",
       "            '<a target=\"_blank\" href=https://colab.research.google.com/notebooks/data_table.ipynb>data table notebook</a>'\n",
       "            + ' to learn more about interactive tables.';\n",
       "          element.innerHTML = '';\n",
       "          dataTable['output_type'] = 'display_data';\n",
       "          await google.colab.output.renderOutput(dataTable, element);\n",
       "          const docLink = document.createElement('div');\n",
       "          docLink.innerHTML = docLinkHtml;\n",
       "          element.appendChild(docLink);\n",
       "        }\n",
       "      </script>\n",
       "    </div>\n",
       "  </div>\n",
       "  "
      ],
      "text/plain": [
       "   ser_loc  zns_loc  prs_loc year_month  count_fail  107_repair_count  \\\n",
       "0      107      3.0      1.0    2020-01         1.0               0.0   \n",
       "1      107      3.0      1.0    2019-03         1.0               0.0   \n",
       "2      107      4.0      1.0    2020-04         1.0               0.0   \n",
       "3      107      4.0      1.0    2020-06         1.0               0.0   \n",
       "4      107      4.0      1.0    2020-07         1.0               0.0   \n",
       "\n",
       "   307_repair_count  308_repair_count  309_repair_count  521_repair_count  \\\n",
       "0               0.0               0.0               0.0               0.0   \n",
       "1               0.0               0.0               0.0               0.0   \n",
       "2               0.0               0.0               0.0               0.0   \n",
       "3               0.0               0.0               0.0               0.0   \n",
       "4               0.0               1.0               0.0               0.0   \n",
       "\n",
       "   ...  тл-2к1  эд118а  эд118б  эдп810  эк-810ч  экг-8ж   power  \\\n",
       "0  ...     0.0     0.0     0.0     0.0      0.0     0.0  3250.0   \n",
       "1  ...     0.0     0.0     0.0     0.0      0.0     0.0  3250.0   \n",
       "2  ...     0.0     0.0     0.0     0.0      0.0     0.0  3080.0   \n",
       "3  ...     0.0     0.0     0.0     0.0      0.0     0.0  3080.0   \n",
       "4  ...     0.0     0.0     0.0     0.0      0.0     0.0  3080.0   \n",
       "\n",
       "   last_of_p_data  last_of_in_invent  day  \n",
       "0             0.0                0.0  NaN  \n",
       "1             0.0                0.0  NaN  \n",
       "2             0.0                0.0  NaN  \n",
       "3             6.0                6.0  NaN  \n",
       "4            10.0               10.0  NaN  \n",
       "\n",
       "[5 rows x 250 columns]"
      ]
     },
     "execution_count": 11,
     "metadata": {},
     "output_type": "execute_result"
    }
   ],
   "source": [
    "data_new = data.merge(goal, on = ['ser_loc','zns_loc','prs_loc','year_month'], how = 'outer')\n",
    "data_new.head()"
   ]
  },
  {
   "cell_type": "markdown",
   "metadata": {
    "id": "kbTkC31dGc6N"
   },
   "source": [
    "#Ищем и чистим плохие столбцы"
   ]
  },
  {
   "cell_type": "code",
   "execution_count": 12,
   "metadata": {
    "id": "iLP4VSWJWD3e"
   },
   "outputs": [],
   "source": [
    "data_new = data_new.dropna(subset = ['count_fail'])"
   ]
  },
  {
   "cell_type": "code",
   "execution_count": 13,
   "metadata": {
    "id": "vD1fp3VsWD5l"
   },
   "outputs": [],
   "source": [
    "i = 0\n",
    "for col_name in data.columns:\n",
    "    if col_name.find('_x_') == True:\n",
    "        print(i)\n",
    "    i += 1 "
   ]
  },
  {
   "cell_type": "code",
   "execution_count": 14,
   "metadata": {
    "id": "GZL-YfXEWD77"
   },
   "outputs": [],
   "source": [
    "data_new = data_new.drop(columns=['date_repair_finish_y_1',\n",
    "       'date_repair_finish_x_2',\n",
    "       'date_repair_finish_y_2', 'date_repair_finish', \n",
    "       'date_repair_finish_x_1'])"
   ]
  },
  {
   "cell_type": "markdown",
   "metadata": {
    "id": "pK34gVM4DVp9"
   },
   "source": [
    "#Подготовка данных к классификации"
   ]
  },
  {
   "cell_type": "code",
   "execution_count": 15,
   "metadata": {
    "id": "3EzmnQ8vWD9u"
   },
   "outputs": [],
   "source": [
    "data_new['day'] = [1 if x > 0 else 0 for x in data_new['day']]\n",
    "data_new = data_new.set_index(['ser_loc','zns_loc','prs_loc','year_month'])"
   ]
  },
  {
   "cell_type": "code",
   "execution_count": 16,
   "metadata": {
    "colab": {
     "base_uri": "https://localhost:8080/"
    },
    "id": "RzD5ehtvNW4A",
    "outputId": "c5260f09-4684-4557-8f42-71727420e01d"
   },
   "outputs": [
    {
     "name": "stdout",
     "output_type": "stream",
     "text": [
      "Кол-во пустых ячеек:  82\n",
      "Кол-во строк в датасете:  43855\n"
     ]
    }
   ],
   "source": [
    "print('Кол-во пустых ячеек: ',data_new.isnull().sum().sum())\n",
    "print('Кол-во строк в датасете: ',len(data_new.index))"
   ]
  },
  {
   "cell_type": "code",
   "execution_count": 17,
   "metadata": {
    "id": "DF5wUbGge2Wj"
   },
   "outputs": [],
   "source": [
    "data_new.dropna(axis=0, how='any', thresh=None, subset=None, inplace=True)"
   ]
  },
  {
   "cell_type": "code",
   "execution_count": 18,
   "metadata": {
    "colab": {
     "base_uri": "https://localhost:8080/"
    },
    "id": "WVBzyOLh4EWl",
    "outputId": "b71dcdc3-4755-472d-ab76-5fa327518be7"
   },
   "outputs": [
    {
     "name": "stdout",
     "output_type": "stream",
     "text": [
      "Кол-во пустых ячеек:  0\n",
      "Кол-во строк в датасете:  43854\n"
     ]
    }
   ],
   "source": [
    "print('Кол-во пустых ячеек: ',data_new.isnull().sum().sum())\n",
    "print('Кол-во строк в датасете: ',len(data_new.index))"
   ]
  },
  {
   "cell_type": "code",
   "execution_count": 19,
   "metadata": {
    "id": "FLxdL3RXYhPB"
   },
   "outputs": [],
   "source": [
    "X=data_new.drop(columns=\"day\")\n",
    "y=data_new[\"day\"]"
   ]
  },
  {
   "cell_type": "code",
   "execution_count": 20,
   "metadata": {
    "id": "BYtHcfVGYvYc"
   },
   "outputs": [],
   "source": [
    "# from sklearn.preprocessing import MinMaxScaler\n",
    "\n",
    "# scaler = MinMaxScaler()\n",
    "# model=scaler.fit(X)\n",
    "# X_sc=model.transform(X)\n",
    " \n",
    "# print(X_sc)"
   ]
  },
  {
   "cell_type": "code",
   "execution_count": 21,
   "metadata": {
    "id": "11qd7BHxIffA"
   },
   "outputs": [],
   "source": [
    "X_train, X_test, y_train, y_test = train_test_split(X,y,test_size=0.33,random_state=42)#"
   ]
  },
  {
   "cell_type": "markdown",
   "metadata": {
    "id": "_C18ITSpr20n"
   },
   "source": [
    "#Метрика качества на несбалансированных данных"
   ]
  },
  {
   "cell_type": "code",
   "execution_count": 22,
   "metadata": {
    "id": "pjxgXW9Qr0tA"
   },
   "outputs": [],
   "source": [
    "model_t = tree.DecisionTreeClassifier(criterion='gini', random_state=42,max_depth=2).fit(X_train,np.ravel(y_train))\n",
    "y_train_tree=model_t.predict(X_train)\n",
    "y_train_proba_tree=model_t.predict_proba(X_train)\n",
    "y_test_tree=model_t.predict(X_test)\n",
    "y_test_proba_tree=model_t.predict_proba(X_test)"
   ]
  },
  {
   "cell_type": "code",
   "execution_count": 23,
   "metadata": {
    "colab": {
     "base_uri": "https://localhost:8080/",
     "height": 296
    },
    "id": "maKO7STGr0ve",
    "outputId": "1e3a6420-fef1-451c-e394-699d1ac250f4"
   },
   "outputs": [
    {
     "name": "stdout",
     "output_type": "stream",
     "text": [
      "Confusion Matrix Дерево решений\n"
     ]
    },
    {
     "data": {
      "image/png": "[encoded data removed]",
      "text/plain": [
       "<Figure size 432x288 with 2 Axes>"
      ]
     },
     "metadata": {
      "needs_background": "light"
     },
     "output_type": "display_data"
    }
   ],
   "source": [
    "print('Confusion Matrix Дерево решений')\n",
    "cm_tree = confusion_matrix(y_test, y_test_tree, labels=model_t.classes_)\n",
    "disp_tree = ConfusionMatrixDisplay(confusion_matrix=cm_tree, display_labels=model_t.classes_)\n",
    "disp_tree.plot()\n",
    "plt.show()"
   ]
  },
  {
   "cell_type": "code",
   "execution_count": 24,
   "metadata": {
    "colab": {
     "base_uri": "https://localhost:8080/"
    },
    "id": "D_8KN-wOr0x3",
    "outputId": "89532751-e87a-4f89-a5cb-af0a4aae5268"
   },
   "outputs": [
    {
     "name": "stdout",
     "output_type": "stream",
     "text": [
      "Метрики Деревья решений на тестовой выборке\n",
      "              precision    recall  f1-score   support\n",
      "\n",
      "           0       1.00      1.00      1.00     14467\n",
      "           1       0.00      0.00      0.00         5\n",
      "\n",
      "    accuracy                           1.00     14472\n",
      "   macro avg       0.50      0.50      0.50     14472\n",
      "weighted avg       1.00      1.00      1.00     14472\n",
      "\n"
     ]
    },
    {
     "name": "stderr",
     "output_type": "stream",
     "text": [
      "/usr/local/lib/python3.8/dist-packages/sklearn/metrics/_classification.py:1318: UndefinedMetricWarning: Precision and F-score are ill-defined and being set to 0.0 in labels with no predicted samples. Use `zero_division` parameter to control this behavior.\n",
      "  _warn_prf(average, modifier, msg_start, len(result))\n",
      "/usr/local/lib/python3.8/dist-packages/sklearn/metrics/_classification.py:1318: UndefinedMetricWarning: Precision and F-score are ill-defined and being set to 0.0 in labels with no predicted samples. Use `zero_division` parameter to control this behavior.\n",
      "  _warn_prf(average, modifier, msg_start, len(result))\n",
      "/usr/local/lib/python3.8/dist-packages/sklearn/metrics/_classification.py:1318: UndefinedMetricWarning: Precision and F-score are ill-defined and being set to 0.0 in labels with no predicted samples. Use `zero_division` parameter to control this behavior.\n",
      "  _warn_prf(average, modifier, msg_start, len(result))\n"
     ]
    }
   ],
   "source": [
    "TREE_CLR=classification_report(y_test,y_test_tree)\n",
    "print(\"Метрики Деревья решений на тестовой выборке\")\n",
    "print(TREE_CLR)"
   ]
  },
  {
   "cell_type": "code",
   "execution_count": 25,
   "metadata": {
    "colab": {
     "base_uri": "https://localhost:8080/"
    },
    "id": "9vq9m8qLr0zv",
    "outputId": "e4406933-5d2a-4a6d-ac0b-75616a2ee421"
   },
   "outputs": [
    {
     "name": "stdout",
     "output_type": "stream",
     "text": [
      "Верно спрогнозированное событие, %:  0.0\n",
      "Верно спрогнозированное отсуствие события, %:  1.0\n"
     ]
    }
   ],
   "source": [
    "d = {'day':y_test}\n",
    "Predict_test = pd.DataFrame(data=d)\n",
    "Predict_test['predict'] = y_test_tree\n",
    "print('Верно спрогнозированное событие, %: ', len(Predict_test[(Predict_test['predict'] == 1)&(Predict_test['day'] == 1)].index)/len(Predict_test[Predict_test['day'] == 1].index))\n",
    "print('Верно спрогнозированное отсуствие события, %: ', len(Predict_test[(Predict_test['predict'] == 0)&(Predict_test['day'] == 0)].index)/len(Predict_test[Predict_test['day'] == 0].index))"
   ]
  },
  {
   "cell_type": "code",
   "execution_count": 26,
   "metadata": {
    "colab": {
     "base_uri": "https://localhost:8080/"
    },
    "id": "ZkQkIpj2WD_n",
    "outputId": "3f3bd8fc-a2de-4f4d-a621-e8b2a15ba2ec"
   },
   "outputs": [
    {
     "data": {
      "text/plain": [
       "0    43840\n",
       "1       14\n",
       "Name: day, dtype: int64"
      ]
     },
     "execution_count": 26,
     "metadata": {},
     "output_type": "execute_result"
    }
   ],
   "source": [
    "data_new['day'].value_counts()"
   ]
  },
  {
   "cell_type": "code",
   "execution_count": 27,
   "metadata": {
    "id": "natTjBarWEB2"
   },
   "outputs": [],
   "source": [
    "# балансировка\n",
    "sm = SMOTE (random_state=1000)#random state=42, k n =6\n",
    "X_train_res, y_train_res = sm.fit_resample(X, y)# X_train, y_train"
   ]
  },
  {
   "cell_type": "code",
   "execution_count": 28,
   "metadata": {
    "id": "hvf3qn54TfTe"
   },
   "outputs": [],
   "source": [
    "X_train, X_test, y_train, y_test = train_test_split(X_train_res,y_train_res,random_state=1)"
   ]
  },
  {
   "cell_type": "code",
   "execution_count": 29,
   "metadata": {
    "colab": {
     "base_uri": "https://localhost:8080/"
    },
    "id": "aOLb3FjJsQbo",
    "outputId": "4de7992d-e7b9-4efc-fd23-3cd00ecf61ac"
   },
   "outputs": [
    {
     "name": "stdout",
     "output_type": "stream",
     "text": [
      "<class 'pandas.core.series.Series'>\n",
      "[0 0 0 ... 1 1 1]\n"
     ]
    }
   ],
   "source": [
    "print(type(y_train_res))\n",
    "y_train_res_numpy = y_train_res. to_numpy () \n",
    "print(y_train_res_numpy)"
   ]
  },
  {
   "cell_type": "code",
   "execution_count": 30,
   "metadata": {
    "colab": {
     "base_uri": "https://localhost:8080/"
    },
    "id": "Y_rRl2_Qr5F_",
    "outputId": "eb2bea01-d11d-4867-aa0e-699bbc4bc309"
   },
   "outputs": [
    {
     "name": "stdout",
     "output_type": "stream",
     "text": [
      "43840 43840\n"
     ]
    }
   ],
   "source": [
    "number_of_1_day=0\n",
    "number_of_2_day=0\n",
    "for i in y_train_res_numpy:\n",
    "  if i==0:\n",
    "    number_of_1_day=number_of_1_day+1\n",
    "  elif i==1:\n",
    "    number_of_2_day=number_of_2_day+1\n",
    "print(number_of_1_day,number_of_2_day)"
   ]
  },
  {
   "cell_type": "code",
   "execution_count": 59,
   "metadata": {
    "id": "Vel5b91iGkl_"
   },
   "outputs": [],
   "source": [
    "# Импорт библиотек\n",
    "from sklearn.decomposition import PCA\n",
    "\n",
    " # Обучаем PCA для выделения 6 признаков\n",
    "pca = PCA(n_components=6)\n",
    "pca.fit(X_train)\n",
    " # Изменяем наши наборы данных под выбранные признаки\n",
    "X_train_pca = pca.transform(X_train)\n",
    "X_test_pca = pca.transform(X_test)"
   ]
  },
  {
   "cell_type": "code",
   "execution_count": 60,
   "metadata": {
    "colab": {
     "base_uri": "https://localhost:8080/"
    },
    "id": "fMQcSOYgltH8",
    "outputId": "1159e56d-0ee1-4a62-af90-340517399782"
   },
   "outputs": [
    {
     "name": "stdout",
     "output_type": "stream",
     "text": [
      "[6.47976859e-01 2.93095787e-01 4.95984158e-02 8.60572208e-03\n",
      " 4.39528497e-04 2.41388771e-04]\n",
      "                                                                                                                                   \n",
      "1 component: 64.8% of initial variance\n",
      "0.000 x count_fail + -0.000 x 107_repair_count + -0.000 x 307_repair_count + -0.000 x 308_repair_count + -0.000 x 309_repair_count + -0.000 x 521_repair_count + 0.000 x 800_repair_count + -0.000 x 801_repair_count + -0.000 x автоматический перевод в нр при превышении норм на то-2 + -0.000 x износ тормозной колодки свыше допустимого + -0.000 x межвитковое замыкание обмотки + 0.000 x неисправность быстродействующего выключателя + 0.000 x неисправность водяной системы охлаждения дизеля + -0.000 x неисправность воздухораспределителя + -0.000 x неисправность выпрямительной установки + 0.000 x неисправность главного выключателя + -0.000 x неисправность крана машиниста + -0.000 x неисправность крышевого оборудования + -0.000 x неисправность локомотивной радиостанции + 0.000 x неисправность масляной системы дизеля + -0.000 x неисправность не подтверждена + -0.000 x неисправность поездного компрессора + -0.000 x неисправность расщепителя фаз + 0.000 x неисправность регулятора дизеля + -0.000 x неисправность саут + 0.000 x неисправность токоприемника + 0.000 x неисправность топливной системы дизеля + -0.000 x неисправность тормозного цилиндра + 0.000 x неисправность турбокомпрессора + -0.000 x неисправность тягового трансформатора + 0.000 x неисправность устройств безопасности + -0.000 x неисправность электродвигателя вентилятора охлаждения выпрямительных установок + 0.000 x неисправность электродвигателя вентилятора охлаждения тяговых двигателей + 0.000 x неисправность электродвигателя поездного компрессора + -0.000 x неисправность электронного блока управления преобразователем + -0.000 x неисправность электрооборудования вспомогательных цепей + 0.000 x неисправность электрооборудования силовой цепи + 0.000 x неисправность электрооборудования цепей управления + -0.000 x несоответствие геометрических параметров автосцепки нормативам + 0.000 x несоответствие геометрических параметров бандажа нормативам + 0.000 x ослабление, проворот бандажа + -0.000 x переброс по коллектору, круговой огонь + 0.000 x повреждение вала якоря + 0.000 x повреждение воздухопроводов, соединительных рукавов, арматуры, воздушного резервуара + 0.000 x повреждение выводных кабелей + -0.000 x повреждение кожуха зубчатой передачи + -0.000 x повреждение коллекторно-щеточного аппарата + -0.000 x повреждение корпуса, подвески тягового редуктора + 0.000 x повреждение моторно-осевого подшипника, подвески тягового двигателя + -0.000 x повреждение остова тэд + -0.000 x повреждение подшипникового узла, моторно-якорных подшипников + 0.000 x повреждение элементов + 0.000 x повреждение элементов кузовной ступени подвешивания + 0.000 x повреждение элементов цилиндро-поршневой группы, коленчатого вала + 0.000 x ползуны, выщерблены колёсной пары + -0.000 x пробой изоляции обмотки на корпус + -0.000 x трещина, деформация + -0.000 x трещина, обрыв, износ элемента + 0.000 x count_equip_cum_sum + 0.000 x count_equip + -0.000 x detection_counts + -0.000 x count_substitutions + -0.000 x count_repair_detec + 0.000 x recl_work_result_0 + -0.000 x recl_work_result_2 + -0.000 x recl_work_result_4 + -0.000 x recl_work_result_7 + -0.000 x алсн + -0.000 x анэ225l4ухл2 + -0.000 x бпт-50 + -0.000 x вип-4000ухл2 + -0.000 x главный воздушный выключатель вов-25-4м + -0.000 x колёсная пара + -0.000 x колёсные пары + -0.000 x нб-418к6_x_1 + -0.000 x нб-418к6_x_2 + -0.000 x нб-514_x + -0.000 x нб-520в + -0.000 x нва-55 + -0.000 x одцэ-5000/25 + -0.000 x птр + -0.000 x пружина люлечного подвешивания. + -0.000 x стпр-1000 + -0.000 x тл-2к_x + -0.000 x тэд + -0.000 x тяговый трансформатор + -0.000 x тяговый трансформатор одцэ-5000/25б-02 + -0.000 x тяговый электродвигатель_1 + -0.000 x колесная пара + -0.000 x стартер-генератор 5псгм + -0.000 x тяговые трансформаторы одцэ-5000/25б + 0.000 x тяговый трансформатор одцэ-5000/25б + -0.000 x тяговый электродвигатель_2 + -0.000 x тяговый электродвигатель тип эк-810ч + -0.000 x ячейка мп-алс + -0.000 x year_detection + -0.000 x cumsum_deffect + 0.000 x last_of_cta + 0.000 x last_of_demont + 0.000 x last_of_dgu_per + 0.000 x last_of_ekspl + 0.000 x last_of_el_mont + 0.000 x last_of_kp + 0.000 x last_of_moika + 0.000 x last_of_mzh_agr + 0.000 x last_of_obkat + 0.000 x last_of_op_kuz + 0.000 x last_of_otp_tch + 0.000 x last_of_prib_zav + -0.000 x 107_was_last + -0.000 x last_of_107repair + -0.000 x 307_was_last + -0.000 x last_of_307repair + -0.000 x 309_was_last + -0.000 x last_of_309repair + -0.000 x 521_was_last + -0.000 x last_of_521repair + 0.000 x 800_was_last + 0.000 x last_of_800repair + 0.000 x last_of_sbor + 0.000 x last_of_ted + 0.000 x last_of_tel_sbor + 0.000 x last_of_tu162 + 0.000 x last_of_vor_5 + 0.000 x last_of_vor_isp + 0.000 x last_of_vor_mor + 0.000 x last_of_vyh_tch + 0.000 x last_of_zast_pot + -0.000 x count_loco_23.pr_per_to2_pr + -0.000 x count_loco_23.pr_per_to2_f + 0.000 x count_loco_23.pr_per_to3_pr + 0.000 x count_loco_23.pr_per_to3_f + -0.000 x count_loco_23.pr_per_tr1_pr + -0.000 x count_loco_23.pr_per_tr1_f + -0.000 x count_loco_23.pr_per_tr2_pr + -0.000 x count_loco_23.pr_per_tr2_f + 0.000 x count_loco_23.pr_per_tr3_pr + 0.000 x count_loco_23.pr_per_tr3_f + -0.000 x count_loco_23.pr_per_sec_pr + -0.000 x count_loco_23.kod_rem_per_sec_pr + -0.000 x count_loco_23.pr_per_tpe_pr + -0.000 x count_loco_23.kod_rem_per_tpe_pr + -0.000 x count_loco_23.pr_per_sec_f + -0.000 x count_loco_23.kod_rem_per_sec_f + -0.000 x count_loco_23.pr_per_tpe_f + -0.000 x count_loco_23.kod_rem_per_tpe_f + -0.000 x count_loco_23.prob_km_pr + -0.000 x count_loco_23.prob_vr_pr + -0.000 x count_loco_23.prob_km_f + -0.000 x count_loco_23.prob_vr_f + 0.000 x count_loco_23.pr_per_sr_pr + 0.000 x count_loco_23.pr_per_sr_f + 0.000 x count_loco_23.pr_per_kr_pr + 0.000 x count_loco_23.pr_per_kr_f + 0.000 x count_loco_23.pr_per_ss_pr + 0.000 x count_loco_23.pr_per_ss_f + -0.000 x num_prob_to2_km + -0.000 x repair_prot_day_to_day + -0.000 x repair_prot_week + 0.000 x repair_prot_mounth + -0.000 x unscheduled_repairs + -0.000 x консервац. + 0.000 x то-3 + 0.000 x тр-1 + -0.000 x тр-2 + -0.000 x тр-3 + -0.000 x num_operation_vid_dv_0 + 0.000 x num_operation_vid_dv_11 + 0.000 x num_operation_vid_dv_12 + -0.000 x num_operation_vid_dv_21 + 0.000 x num_operation_vid_dv_22 + 0.000 x num_operation_vid_dv_23 + -0.000 x num_operation_vid_dv_24 + 0.000 x num_operation_vid_dv_41 + -0.000 x num_operation_vid_dv_42 + 0.000 x num_operation_vid_dv_43 + 0.000 x num_operation_vid_dv_50 + 0.000 x num_operation_vid_dv_70 + -0.000 x loco_23.norm_prob_to2_vr + -0.013 x loco_23.norm_prob_tr1_km + -0.159 x loco_23.norm_prob_tr2_km + -0.328 x loco_23.norm_prob_tr3_km + -0.908 x loco_23.norm_prob_sr_km + -0.206 x loco_23.norm_prob_kr_km + -0.000 x loco_23.prv_norm_tr1_km + -0.000 x loco_23.prv_norm_tr2_km + -0.000 x loco_23.prv_norm_tr3_km + -0.000 x loco_23.prv_norm_sr_km + -0.000 x loco_23.prv_norm_kr_km + -0.005 x mileage + -0.000 x repair_count_unique + -0.000 x repair_count + 0.000 x fail_count + -0.000 x 150и + 0.000 x 1а-5д49 + 0.000 x 1а-9дг + -0.000 x 1а-9дг исп.3 + -0.000 x 300л + -0.000 x 394 + -0.000 x 395-3 + 0.000 x 5тн.224.367 + -0.000 x вв 3,5/10 + -0.000 x вип-4000 + -0.000 x вл + -0.000 x вл 5тн.084.840 + 0.000 x вл, эп, 2эс5к (8тн.229.013) + -0.000 x вов-25-4м + -0.000 x вов-25а-10/400 + -0.000 x дксв-1-д + -0.000 x дэн-30мо + -0.000 x кт6-эл + 0.000 x нб-418к6_y + -0.000 x нб-514_y + -0.000 x нк-125 + -0.000 x низкое сопротивление изоляции провода, кабеля низковольтных цепей и цепей управления + -0.000 x низкое сопротивление изоляции проводов, кабелей силовых цепей + -0.000 x одцэ-5000/25б-02 + 0.000 x обрыв провода, кабеля низковольтных цепей и цепей управления + 0.000 x пробой изоляции провода, кабеля низковольтных цепей и цепей управления на корпус + 0.000 x пробой изоляции проводов, кабелей силовых цепей на корпус + -0.000 x прочая неисправность блок-контактов реле напряжения + 0.000 x прочая неисправность блок-контактов реле промежуточного + 0.000 x прочая неисправность манжеты клапана песочницы + 0.000 x прочая неисправность провода, кабеля низковольтных цепей и цепей управления + -0.000 x прочая неисправность проводов, кабелей силовых цепей + -0.000 x прочая неисправность силовых контактов электромагнитного контактора вспомогательных цепей и цепей управления + 0.000 x прочая неисправность шины силовых цепей + 0.000 x са-3 + -0.000 x стк-810 + 0.000 x сгорание плавкой вставки предохранителя, панели предохранителей + 0.000 x тл-2к_y + 0.000 x тл-2к1 + 0.000 x эд118а + 0.000 x эд118б + -0.000 x эдп810 + -0.000 x эк-810ч + 0.000 x экг-8ж + -0.004 x power + -0.000 x last_of_p_data + -0.000 x last_of_in_invent\n",
      "2 component: 29.31% of initial variance\n",
      "-0.000 x count_fail + 0.000 x 107_repair_count + -0.000 x 307_repair_count + 0.000 x 308_repair_count + 0.000 x 309_repair_count + 0.000 x 521_repair_count + 0.000 x 800_repair_count + 0.000 x 801_repair_count + 0.000 x автоматический перевод в нр при превышении норм на то-2 + 0.000 x износ тормозной колодки свыше допустимого + 0.000 x межвитковое замыкание обмотки + -0.000 x неисправность быстродействующего выключателя + 0.000 x неисправность водяной системы охлаждения дизеля + 0.000 x неисправность воздухораспределителя + 0.000 x неисправность выпрямительной установки + -0.000 x неисправность главного выключателя + 0.000 x неисправность крана машиниста + -0.000 x неисправность крышевого оборудования + 0.000 x неисправность локомотивной радиостанции + 0.000 x неисправность масляной системы дизеля + 0.000 x неисправность не подтверждена + -0.000 x неисправность поездного компрессора + 0.000 x неисправность расщепителя фаз + 0.000 x неисправность регулятора дизеля + -0.000 x неисправность саут + -0.000 x неисправность токоприемника + 0.000 x неисправность топливной системы дизеля + -0.000 x неисправность тормозного цилиндра + 0.000 x неисправность турбокомпрессора + 0.000 x неисправность тягового трансформатора + -0.000 x неисправность устройств безопасности + 0.000 x неисправность электродвигателя вентилятора охлаждения выпрямительных установок + -0.000 x неисправность электродвигателя вентилятора охлаждения тяговых двигателей + 0.000 x неисправность электродвигателя поездного компрессора + 0.000 x неисправность электронного блока управления преобразователем + 0.000 x неисправность электрооборудования вспомогательных цепей + -0.000 x неисправность электрооборудования силовой цепи + -0.000 x неисправность электрооборудования цепей управления + -0.000 x несоответствие геометрических параметров автосцепки нормативам + -0.000 x несоответствие геометрических параметров бандажа нормативам + 0.000 x ослабление, проворот бандажа + 0.000 x переброс по коллектору, круговой огонь + -0.000 x повреждение вала якоря + -0.000 x повреждение воздухопроводов, соединительных рукавов, арматуры, воздушного резервуара + -0.000 x повреждение выводных кабелей + 0.000 x повреждение кожуха зубчатой передачи + 0.000 x повреждение коллекторно-щеточного аппарата + 0.000 x повреждение корпуса, подвески тягового редуктора + -0.000 x повреждение моторно-осевого подшипника, подвески тягового двигателя + 0.000 x повреждение остова тэд + 0.000 x повреждение подшипникового узла, моторно-якорных подшипников + -0.000 x повреждение элементов + -0.000 x повреждение элементов кузовной ступени подвешивания + 0.000 x повреждение элементов цилиндро-поршневой группы, коленчатого вала + 0.000 x ползуны, выщерблены колёсной пары + 0.000 x пробой изоляции обмотки на корпус + 0.000 x трещина, деформация + 0.000 x трещина, обрыв, износ элемента + -0.000 x count_equip_cum_sum + -0.000 x count_equip + -0.000 x detection_counts + 0.000 x count_substitutions + -0.000 x count_repair_detec + -0.000 x recl_work_result_0 + 0.000 x recl_work_result_2 + 0.000 x recl_work_result_4 + -0.000 x recl_work_result_7 + -0.000 x алсн + -0.000 x анэ225l4ухл2 + -0.000 x бпт-50 + -0.000 x вип-4000ухл2 + -0.000 x главный воздушный выключатель вов-25-4м + -0.000 x колёсная пара + -0.000 x колёсные пары + -0.000 x нб-418к6_x_1 + -0.000 x нб-418к6_x_2 + -0.000 x нб-514_x + 0.000 x нб-520в + 0.000 x нва-55 + -0.000 x одцэ-5000/25 + -0.000 x птр + -0.000 x пружина люлечного подвешивания. + -0.000 x стпр-1000 + -0.000 x тл-2к_x + 0.000 x тэд + -0.000 x тяговый трансформатор + -0.000 x тяговый трансформатор одцэ-5000/25б-02 + -0.000 x тяговый электродвигатель_1 + -0.000 x колесная пара + -0.000 x стартер-генератор 5псгм + -0.000 x тяговые трансформаторы одцэ-5000/25б + -0.000 x тяговый трансформатор одцэ-5000/25б + -0.000 x тяговый электродвигатель_2 + -0.000 x тяговый электродвигатель тип эк-810ч + -0.000 x ячейка мп-алс + -0.000 x year_detection + -0.000 x cumsum_deffect + -0.000 x last_of_cta + -0.000 x last_of_demont + 0.000 x last_of_dgu_per + -0.000 x last_of_ekspl + -0.000 x last_of_el_mont + -0.000 x last_of_kp + -0.000 x last_of_moika + 0.000 x last_of_mzh_agr + -0.000 x last_of_obkat + -0.000 x last_of_op_kuz + -0.000 x last_of_otp_tch + -0.000 x last_of_prib_zav + 0.000 x 107_was_last + 0.000 x last_of_107repair + 0.000 x 307_was_last + 0.000 x last_of_307repair + 0.000 x 309_was_last + 0.000 x last_of_309repair + 0.000 x 521_was_last + 0.000 x last_of_521repair + 0.000 x 800_was_last + 0.000 x last_of_800repair + -0.000 x last_of_sbor + -0.000 x last_of_ted + -0.000 x last_of_tel_sbor + -0.000 x last_of_tu162 + -0.000 x last_of_vor_5 + -0.000 x last_of_vor_isp + -0.000 x last_of_vor_mor + -0.000 x last_of_vyh_tch + -0.000 x last_of_zast_pot + 0.000 x count_loco_23.pr_per_to2_pr + 0.000 x count_loco_23.pr_per_to2_f + 0.000 x count_loco_23.pr_per_to3_pr + 0.000 x count_loco_23.pr_per_to3_f + 0.000 x count_loco_23.pr_per_tr1_pr + 0.000 x count_loco_23.pr_per_tr1_f + 0.000 x count_loco_23.pr_per_tr2_pr + 0.000 x count_loco_23.pr_per_tr2_f + 0.000 x count_loco_23.pr_per_tr3_pr + 0.000 x count_loco_23.pr_per_tr3_f + 0.000 x count_loco_23.pr_per_sec_pr + 0.000 x count_loco_23.kod_rem_per_sec_pr + 0.000 x count_loco_23.pr_per_tpe_pr + 0.000 x count_loco_23.kod_rem_per_tpe_pr + 0.000 x count_loco_23.pr_per_sec_f + 0.000 x count_loco_23.kod_rem_per_sec_f + 0.000 x count_loco_23.pr_per_tpe_f + 0.000 x count_loco_23.kod_rem_per_tpe_f + 0.000 x count_loco_23.prob_km_pr + 0.000 x count_loco_23.prob_vr_pr + 0.000 x count_loco_23.prob_km_f + 0.000 x count_loco_23.prob_vr_f + 0.000 x count_loco_23.pr_per_sr_pr + 0.000 x count_loco_23.pr_per_sr_f + 0.000 x count_loco_23.pr_per_kr_pr + 0.000 x count_loco_23.pr_per_kr_f + 0.000 x count_loco_23.pr_per_ss_pr + 0.000 x count_loco_23.pr_per_ss_f + 0.000 x num_prob_to2_km + 0.000 x repair_prot_day_to_day + -0.000 x repair_prot_week + 0.000 x repair_prot_mounth + 0.000 x unscheduled_repairs + -0.000 x консервац. + 0.000 x то-3 + -0.000 x тр-1 + -0.000 x тр-2 + 0.000 x тр-3 + 0.000 x num_operation_vid_dv_0 + 0.000 x num_operation_vid_dv_11 + 0.000 x num_operation_vid_dv_12 + -0.000 x num_operation_vid_dv_21 + 0.000 x num_operation_vid_dv_22 + 0.000 x num_operation_vid_dv_23 + 0.000 x num_operation_vid_dv_24 + 0.000 x num_operation_vid_dv_41 + 0.000 x num_operation_vid_dv_42 + 0.000 x num_operation_vid_dv_43 + 0.000 x num_operation_vid_dv_50 + 0.000 x num_operation_vid_dv_70 + 0.000 x loco_23.norm_prob_to2_vr + 0.014 x loco_23.norm_prob_tr1_km + 0.004 x loco_23.norm_prob_tr2_km + 0.021 x loco_23.norm_prob_tr3_km + 0.213 x loco_23.norm_prob_sr_km + -0.977 x loco_23.norm_prob_kr_km + 0.000 x loco_23.prv_norm_tr1_km + 0.000 x loco_23.prv_norm_tr2_km + 0.000 x loco_23.prv_norm_tr3_km + 0.000 x loco_23.prv_norm_sr_km + 0.000 x loco_23.prv_norm_kr_km + -0.000 x mileage + 0.000 x repair_count_unique + 0.000 x repair_count + -0.000 x fail_count + -0.000 x 150и + 0.000 x 1а-5д49 + 0.000 x 1а-9дг + -0.000 x 1а-9дг исп.3 + -0.000 x 300л + 0.000 x 394 + -0.000 x 395-3 + -0.000 x 5тн.224.367 + 0.000 x вв 3,5/10 + 0.000 x вип-4000 + 0.000 x вл + -0.000 x вл 5тн.084.840 + -0.000 x вл, эп, 2эс5к (8тн.229.013) + -0.000 x вов-25-4м + 0.000 x вов-25а-10/400 + 0.000 x дксв-1-д + 0.000 x дэн-30мо + -0.000 x кт6-эл + -0.000 x нб-418к6_y + 0.000 x нб-514_y + 0.000 x нк-125 + 0.000 x низкое сопротивление изоляции провода, кабеля низковольтных цепей и цепей управления + 0.000 x низкое сопротивление изоляции проводов, кабелей силовых цепей + 0.000 x одцэ-5000/25б-02 + -0.000 x обрыв провода, кабеля низковольтных цепей и цепей управления + 0.000 x пробой изоляции провода, кабеля низковольтных цепей и цепей управления на корпус + 0.000 x пробой изоляции проводов, кабелей силовых цепей на корпус + -0.000 x прочая неисправность блок-контактов реле напряжения + -0.000 x прочая неисправность блок-контактов реле промежуточного + -0.000 x прочая неисправность манжеты клапана песочницы + 0.000 x прочая неисправность провода, кабеля низковольтных цепей и цепей управления + -0.000 x прочая неисправность проводов, кабелей силовых цепей + -0.000 x прочая неисправность силовых контактов электромагнитного контактора вспомогательных цепей и цепей управления + -0.000 x прочая неисправность шины силовых цепей + 0.000 x са-3 + 0.000 x стк-810 + -0.000 x сгорание плавкой вставки предохранителя, панели предохранителей + -0.000 x тл-2к_y + -0.000 x тл-2к1 + 0.000 x эд118а + 0.000 x эд118б + 0.000 x эдп810 + 0.000 x эк-810ч + -0.000 x экг-8ж + 0.002 x power + 0.000 x last_of_p_data + 0.000 x last_of_in_invent\n",
      "3 component: 4.96% of initial variance\n",
      "-0.000 x count_fail + 0.000 x 107_repair_count + 0.000 x 307_repair_count + -0.000 x 308_repair_count + 0.000 x 309_repair_count + 0.000 x 521_repair_count + 0.000 x 800_repair_count + 0.000 x 801_repair_count + 0.000 x автоматический перевод в нр при превышении норм на то-2 + 0.000 x износ тормозной колодки свыше допустимого + 0.000 x межвитковое замыкание обмотки + 0.000 x неисправность быстродействующего выключателя + -0.000 x неисправность водяной системы охлаждения дизеля + 0.000 x неисправность воздухораспределителя + -0.000 x неисправность выпрямительной установки + 0.000 x неисправность главного выключателя + 0.000 x неисправность крана машиниста + 0.000 x неисправность крышевого оборудования + -0.000 x неисправность локомотивной радиостанции + -0.000 x неисправность масляной системы дизеля + 0.000 x неисправность не подтверждена + -0.000 x неисправность поездного компрессора + -0.000 x неисправность расщепителя фаз + -0.000 x неисправность регулятора дизеля + 0.000 x неисправность саут + 0.000 x неисправность токоприемника + -0.000 x неисправность топливной системы дизеля + 0.000 x неисправность тормозного цилиндра + -0.000 x неисправность турбокомпрессора + -0.000 x неисправность тягового трансформатора + 0.000 x неисправность устройств безопасности + 0.000 x неисправность электродвигателя вентилятора охлаждения выпрямительных установок + 0.000 x неисправность электродвигателя вентилятора охлаждения тяговых двигателей + 0.000 x неисправность электродвигателя поездного компрессора + -0.000 x неисправность электронного блока управления преобразователем + 0.000 x неисправность электрооборудования вспомогательных цепей + 0.000 x неисправность электрооборудования силовой цепи + -0.000 x неисправность электрооборудования цепей управления + 0.000 x несоответствие геометрических параметров автосцепки нормативам + 0.000 x несоответствие геометрических параметров бандажа нормативам + 0.000 x ослабление, проворот бандажа + -0.000 x переброс по коллектору, круговой огонь + -0.000 x повреждение вала якоря + 0.000 x повреждение воздухопроводов, соединительных рукавов, арматуры, воздушного резервуара + -0.000 x повреждение выводных кабелей + 0.000 x повреждение кожуха зубчатой передачи + 0.000 x повреждение коллекторно-щеточного аппарата + -0.000 x повреждение корпуса, подвески тягового редуктора + 0.000 x повреждение моторно-осевого подшипника, подвески тягового двигателя + -0.000 x повреждение остова тэд + 0.000 x повреждение подшипникового узла, моторно-якорных подшипников + 0.000 x повреждение элементов + 0.000 x повреждение элементов кузовной ступени подвешивания + -0.000 x повреждение элементов цилиндро-поршневой группы, коленчатого вала + 0.000 x ползуны, выщерблены колёсной пары + -0.000 x пробой изоляции обмотки на корпус + 0.000 x трещина, деформация + 0.000 x трещина, обрыв, износ элемента + 0.000 x count_equip_cum_sum + 0.000 x count_equip + 0.000 x detection_counts + 0.000 x count_substitutions + 0.000 x count_repair_detec + 0.000 x recl_work_result_0 + 0.000 x recl_work_result_2 + -0.000 x recl_work_result_4 + 0.000 x recl_work_result_7 + 0.000 x алсн + 0.000 x анэ225l4ухл2 + 0.000 x бпт-50 + 0.000 x вип-4000ухл2 + 0.000 x главный воздушный выключатель вов-25-4м + 0.000 x колёсная пара + 0.000 x колёсные пары + 0.000 x нб-418к6_x_1 + 0.000 x нб-418к6_x_2 + 0.000 x нб-514_x + 0.000 x нб-520в + 0.000 x нва-55 + 0.000 x одцэ-5000/25 + 0.000 x птр + 0.000 x пружина люлечного подвешивания. + 0.000 x стпр-1000 + 0.000 x тл-2к_x + -0.000 x тэд + 0.000 x тяговый трансформатор + 0.000 x тяговый трансформатор одцэ-5000/25б-02 + 0.000 x тяговый электродвигатель_1 + 0.000 x колесная пара + 0.000 x стартер-генератор 5псгм + 0.000 x тяговые трансформаторы одцэ-5000/25б + 0.000 x тяговый трансформатор одцэ-5000/25б + 0.000 x тяговый электродвигатель_2 + 0.000 x тяговый электродвигатель тип эк-810ч + 0.000 x ячейка мп-алс + 0.000 x year_detection + 0.000 x cumsum_deffect + -0.001 x last_of_cta + -0.001 x last_of_demont + -0.000 x last_of_dgu_per + -0.001 x last_of_ekspl + -0.001 x last_of_el_mont + -0.001 x last_of_kp + -0.001 x last_of_moika + 0.000 x last_of_mzh_agr + -0.001 x last_of_obkat + -0.001 x last_of_op_kuz + -0.001 x last_of_otp_tch + -0.001 x last_of_prib_zav + 0.000 x 107_was_last + 0.000 x last_of_107repair + 0.000 x 307_was_last + 0.000 x last_of_307repair + 0.000 x 309_was_last + 0.000 x last_of_309repair + 0.000 x 521_was_last + 0.000 x last_of_521repair + 0.000 x 800_was_last + 0.000 x last_of_800repair + -0.001 x last_of_sbor + -0.001 x last_of_ted + -0.001 x last_of_tel_sbor + -0.001 x last_of_tu162 + -0.001 x last_of_vor_5 + -0.001 x last_of_vor_isp + -0.001 x last_of_vor_mor + -0.001 x last_of_vyh_tch + -0.001 x last_of_zast_pot + -0.000 x count_loco_23.pr_per_to2_pr + -0.000 x count_loco_23.pr_per_to2_f + 0.000 x count_loco_23.pr_per_to3_pr + 0.000 x count_loco_23.pr_per_to3_f + 0.000 x count_loco_23.pr_per_tr1_pr + 0.000 x count_loco_23.pr_per_tr1_f + 0.000 x count_loco_23.pr_per_tr2_pr + 0.000 x count_loco_23.pr_per_tr2_f + 0.000 x count_loco_23.pr_per_tr3_pr + 0.000 x count_loco_23.pr_per_tr3_f + 0.000 x count_loco_23.pr_per_sec_pr + 0.000 x count_loco_23.kod_rem_per_sec_pr + -0.000 x count_loco_23.pr_per_tpe_pr + -0.000 x count_loco_23.kod_rem_per_tpe_pr + 0.000 x count_loco_23.pr_per_sec_f + 0.000 x count_loco_23.kod_rem_per_sec_f + -0.000 x count_loco_23.pr_per_tpe_f + -0.000 x count_loco_23.kod_rem_per_tpe_f + -0.000 x count_loco_23.prob_km_pr + -0.000 x count_loco_23.prob_vr_pr + -0.000 x count_loco_23.prob_km_f + -0.000 x count_loco_23.prob_vr_f + 0.000 x count_loco_23.pr_per_sr_pr + 0.000 x count_loco_23.pr_per_sr_f + 0.000 x count_loco_23.pr_per_kr_pr + 0.000 x count_loco_23.pr_per_kr_f + 0.000 x count_loco_23.pr_per_ss_pr + 0.000 x count_loco_23.pr_per_ss_f + -0.000 x num_prob_to2_km + -0.000 x repair_prot_day_to_day + 0.000 x repair_prot_week + -0.000 x repair_prot_mounth + -0.000 x unscheduled_repairs + 0.000 x консервац. + -0.000 x то-3 + -0.000 x тр-1 + 0.000 x тр-2 + -0.000 x тр-3 + 0.000 x num_operation_vid_dv_0 + 0.000 x num_operation_vid_dv_11 + 0.000 x num_operation_vid_dv_12 + -0.000 x num_operation_vid_dv_21 + 0.000 x num_operation_vid_dv_22 + -0.000 x num_operation_vid_dv_23 + -0.000 x num_operation_vid_dv_24 + 0.000 x num_operation_vid_dv_41 + 0.000 x num_operation_vid_dv_42 + 0.000 x num_operation_vid_dv_43 + 0.000 x num_operation_vid_dv_50 + 0.000 x num_operation_vid_dv_70 + -0.000 x loco_23.norm_prob_to2_vr + -0.043 x loco_23.norm_prob_tr1_km + -0.802 x loco_23.norm_prob_tr2_km + -0.506 x loco_23.norm_prob_tr3_km + 0.311 x loco_23.norm_prob_sr_km + 0.053 x loco_23.norm_prob_kr_km + 0.000 x loco_23.prv_norm_tr1_km + 0.000 x loco_23.prv_norm_tr2_km + 0.000 x loco_23.prv_norm_tr3_km + 0.000 x loco_23.prv_norm_sr_km + 0.000 x loco_23.prv_norm_kr_km + -0.003 x mileage + -0.000 x repair_count_unique + -0.000 x repair_count + -0.000 x fail_count + 0.000 x 150и + -0.000 x 1а-5д49 + -0.000 x 1а-9дг + 0.000 x 1а-9дг исп.3 + 0.000 x 300л + -0.000 x 394 + 0.000 x 395-3 + -0.000 x 5тн.224.367 + -0.000 x вв 3,5/10 + -0.000 x вип-4000 + 0.000 x вл + 0.000 x вл 5тн.084.840 + 0.000 x вл, эп, 2эс5к (8тн.229.013) + 0.000 x вов-25-4м + 0.000 x вов-25а-10/400 + 0.000 x дксв-1-д + -0.000 x дэн-30мо + -0.000 x кт6-эл + -0.000 x нб-418к6_y + 0.000 x нб-514_y + 0.000 x нк-125 + -0.000 x низкое сопротивление изоляции провода, кабеля низковольтных цепей и цепей управления + 0.000 x низкое сопротивление изоляции проводов, кабелей силовых цепей + 0.000 x одцэ-5000/25б-02 + 0.000 x обрыв провода, кабеля низковольтных цепей и цепей управления + 0.000 x пробой изоляции провода, кабеля низковольтных цепей и цепей управления на корпус + 0.000 x пробой изоляции проводов, кабелей силовых цепей на корпус + 0.000 x прочая неисправность блок-контактов реле напряжения + 0.000 x прочая неисправность блок-контактов реле промежуточного + -0.000 x прочая неисправность манжеты клапана песочницы + -0.000 x прочая неисправность провода, кабеля низковольтных цепей и цепей управления + 0.000 x прочая неисправность проводов, кабелей силовых цепей + -0.000 x прочая неисправность силовых контактов электромагнитного контактора вспомогательных цепей и цепей управления + 0.000 x прочая неисправность шины силовых цепей + -0.000 x са-3 + -0.000 x стк-810 + 0.000 x сгорание плавкой вставки предохранителя, панели предохранителей + 0.000 x тл-2к_y + 0.000 x тл-2к1 + -0.000 x эд118а + -0.000 x эд118б + -0.000 x эдп810 + -0.000 x эк-810ч + -0.000 x экг-8ж + -0.001 x power + -0.000 x last_of_p_data + -0.000 x last_of_in_invent\n",
      "4 component: 0.86% of initial variance\n",
      "0.000 x count_fail + -0.000 x 107_repair_count + 0.000 x 307_repair_count + -0.000 x 308_repair_count + -0.000 x 309_repair_count + -0.000 x 521_repair_count + -0.000 x 800_repair_count + 0.000 x 801_repair_count + -0.000 x автоматический перевод в нр при превышении норм на то-2 + -0.000 x износ тормозной колодки свыше допустимого + -0.000 x межвитковое замыкание обмотки + 0.000 x неисправность быстродействующего выключателя + -0.000 x неисправность водяной системы охлаждения дизеля + -0.000 x неисправность воздухораспределителя + -0.000 x неисправность выпрямительной установки + 0.000 x неисправность главного выключателя + -0.000 x неисправность крана машиниста + -0.000 x неисправность крышевого оборудования + -0.000 x неисправность локомотивной радиостанции + -0.000 x неисправность масляной системы дизеля + -0.000 x неисправность не подтверждена + -0.000 x неисправность поездного компрессора + -0.000 x неисправность расщепителя фаз + -0.000 x неисправность регулятора дизеля + -0.000 x неисправность саут + 0.000 x неисправность токоприемника + -0.000 x неисправность топливной системы дизеля + -0.000 x неисправность тормозного цилиндра + -0.000 x неисправность турбокомпрессора + -0.000 x неисправность тягового трансформатора + 0.000 x неисправность устройств безопасности + -0.000 x неисправность электродвигателя вентилятора охлаждения выпрямительных установок + -0.000 x неисправность электродвигателя вентилятора охлаждения тяговых двигателей + 0.000 x неисправность электродвигателя поездного компрессора + -0.000 x неисправность электронного блока управления преобразователем + -0.000 x неисправность электрооборудования вспомогательных цепей + -0.000 x неисправность электрооборудования силовой цепи + 0.000 x неисправность электрооборудования цепей управления + 0.000 x несоответствие геометрических параметров автосцепки нормативам + -0.000 x несоответствие геометрических параметров бандажа нормативам + 0.000 x ослабление, проворот бандажа + -0.000 x переброс по коллектору, круговой огонь + 0.000 x повреждение вала якоря + 0.000 x повреждение воздухопроводов, соединительных рукавов, арматуры, воздушного резервуара + 0.000 x повреждение выводных кабелей + -0.000 x повреждение кожуха зубчатой передачи + -0.000 x повреждение коллекторно-щеточного аппарата + -0.000 x повреждение корпуса, подвески тягового редуктора + -0.000 x повреждение моторно-осевого подшипника, подвески тягового двигателя + -0.000 x повреждение остова тэд + -0.000 x повреждение подшипникового узла, моторно-якорных подшипников + 0.000 x повреждение элементов + 0.000 x повреждение элементов кузовной ступени подвешивания + -0.000 x повреждение элементов цилиндро-поршневой группы, коленчатого вала + -0.000 x ползуны, выщерблены колёсной пары + -0.000 x пробой изоляции обмотки на корпус + -0.000 x трещина, деформация + -0.000 x трещина, обрыв, износ элемента + 0.000 x count_equip_cum_sum + -0.000 x count_equip + -0.000 x detection_counts + -0.000 x count_substitutions + -0.000 x count_repair_detec + -0.000 x recl_work_result_0 + -0.000 x recl_work_result_2 + -0.000 x recl_work_result_4 + -0.000 x recl_work_result_7 + -0.000 x алсн + -0.000 x анэ225l4ухл2 + -0.000 x бпт-50 + -0.000 x вип-4000ухл2 + -0.000 x главный воздушный выключатель вов-25-4м + -0.000 x колёсная пара + -0.000 x колёсные пары + -0.000 x нб-418к6_x_1 + -0.000 x нб-418к6_x_2 + -0.000 x нб-514_x + -0.000 x нб-520в + -0.000 x нва-55 + -0.000 x одцэ-5000/25 + -0.000 x птр + -0.000 x пружина люлечного подвешивания. + -0.000 x стпр-1000 + -0.000 x тл-2к_x + -0.000 x тэд + -0.000 x тяговый трансформатор + -0.000 x тяговый трансформатор одцэ-5000/25б-02 + -0.000 x тяговый электродвигатель_1 + -0.000 x колесная пара + -0.000 x стартер-генератор 5псгм + -0.000 x тяговые трансформаторы одцэ-5000/25б + -0.000 x тяговый трансформатор одцэ-5000/25б + -0.000 x тяговый электродвигатель_2 + -0.000 x тяговый электродвигатель тип эк-810ч + -0.000 x ячейка мп-алс + -0.000 x year_detection + -0.000 x cumsum_deffect + 0.001 x last_of_cta + 0.001 x last_of_demont + -0.000 x last_of_dgu_per + 0.001 x last_of_ekspl + 0.001 x last_of_el_mont + 0.001 x last_of_kp + 0.001 x last_of_moika + -0.000 x last_of_mzh_agr + 0.001 x last_of_obkat + 0.001 x last_of_op_kuz + 0.001 x last_of_otp_tch + 0.001 x last_of_prib_zav + -0.000 x 107_was_last + -0.000 x last_of_107repair + -0.000 x 307_was_last + -0.000 x last_of_307repair + -0.000 x 309_was_last + -0.000 x last_of_309repair + -0.000 x 521_was_last + -0.000 x last_of_521repair + -0.000 x 800_was_last + -0.000 x last_of_800repair + 0.001 x last_of_sbor + 0.001 x last_of_ted + 0.001 x last_of_tel_sbor + 0.001 x last_of_tu162 + 0.001 x last_of_vor_5 + 0.001 x last_of_vor_isp + 0.001 x last_of_vor_mor + 0.001 x last_of_vyh_tch + 0.001 x last_of_zast_pot + -0.000 x count_loco_23.pr_per_to2_pr + -0.000 x count_loco_23.pr_per_to2_f + -0.000 x count_loco_23.pr_per_to3_pr + -0.000 x count_loco_23.pr_per_to3_f + 0.000 x count_loco_23.pr_per_tr1_pr + 0.000 x count_loco_23.pr_per_tr1_f + 0.000 x count_loco_23.pr_per_tr2_pr + 0.000 x count_loco_23.pr_per_tr2_f + 0.000 x count_loco_23.pr_per_tr3_pr + 0.000 x count_loco_23.pr_per_tr3_f + -0.000 x count_loco_23.pr_per_sec_pr + -0.000 x count_loco_23.kod_rem_per_sec_pr + -0.000 x count_loco_23.pr_per_tpe_pr + -0.000 x count_loco_23.kod_rem_per_tpe_pr + -0.000 x count_loco_23.pr_per_sec_f + -0.000 x count_loco_23.kod_rem_per_sec_f + -0.000 x count_loco_23.pr_per_tpe_f + -0.000 x count_loco_23.kod_rem_per_tpe_f + -0.000 x count_loco_23.prob_km_pr + -0.000 x count_loco_23.prob_vr_pr + -0.000 x count_loco_23.prob_km_f + -0.000 x count_loco_23.prob_vr_f + -0.000 x count_loco_23.pr_per_sr_pr + -0.000 x count_loco_23.pr_per_sr_f + 0.000 x count_loco_23.pr_per_kr_pr + 0.000 x count_loco_23.pr_per_kr_f + -0.000 x count_loco_23.pr_per_ss_pr + -0.000 x count_loco_23.pr_per_ss_f + -0.000 x num_prob_to2_km + -0.000 x repair_prot_day_to_day + -0.000 x repair_prot_week + -0.000 x repair_prot_mounth + -0.000 x unscheduled_repairs + -0.000 x консервац. + -0.000 x то-3 + -0.000 x тр-1 + -0.000 x тр-2 + -0.000 x тр-3 + 0.000 x num_operation_vid_dv_0 + -0.000 x num_operation_vid_dv_11 + -0.000 x num_operation_vid_dv_12 + -0.000 x num_operation_vid_dv_21 + -0.000 x num_operation_vid_dv_22 + 0.000 x num_operation_vid_dv_23 + -0.000 x num_operation_vid_dv_24 + 0.000 x num_operation_vid_dv_41 + -0.000 x num_operation_vid_dv_42 + -0.000 x num_operation_vid_dv_43 + 0.000 x num_operation_vid_dv_50 + 0.000 x num_operation_vid_dv_70 + -0.000 x loco_23.norm_prob_to2_vr + -0.001 x loco_23.norm_prob_tr1_km + 0.575 x loco_23.norm_prob_tr2_km + -0.797 x loco_23.norm_prob_tr3_km + 0.182 x loco_23.norm_prob_sr_km + 0.025 x loco_23.norm_prob_kr_km + -0.000 x loco_23.prv_norm_tr1_km + -0.000 x loco_23.prv_norm_tr2_km + -0.000 x loco_23.prv_norm_tr3_km + 0.000 x loco_23.prv_norm_sr_km + 0.000 x loco_23.prv_norm_kr_km + -0.001 x mileage + 0.000 x repair_count_unique + 0.000 x repair_count + 0.000 x fail_count + -0.000 x 150и + -0.000 x 1а-5д49 + -0.000 x 1а-9дг + -0.000 x 1а-9дг исп.3 + 0.000 x 300л + 0.000 x 394 + 0.000 x 395-3 + 0.000 x 5тн.224.367 + -0.000 x вв 3,5/10 + -0.000 x вип-4000 + 0.000 x вл + -0.000 x вл 5тн.084.840 + 0.000 x вл, эп, 2эс5к (8тн.229.013) + 0.000 x вов-25-4м + -0.000 x вов-25а-10/400 + -0.000 x дксв-1-д + -0.000 x дэн-30мо + 0.000 x кт6-эл + 0.000 x нб-418к6_y + 0.000 x нб-514_y + 0.000 x нк-125 + 0.000 x низкое сопротивление изоляции провода, кабеля низковольтных цепей и цепей управления + -0.000 x низкое сопротивление изоляции проводов, кабелей силовых цепей + 0.000 x одцэ-5000/25б-02 + 0.000 x обрыв провода, кабеля низковольтных цепей и цепей управления + -0.000 x пробой изоляции провода, кабеля низковольтных цепей и цепей управления на корпус + 0.000 x пробой изоляции проводов, кабелей силовых цепей на корпус + -0.000 x прочая неисправность блок-контактов реле напряжения + 0.000 x прочая неисправность блок-контактов реле промежуточного + 0.000 x прочая неисправность манжеты клапана песочницы + 0.000 x прочая неисправность провода, кабеля низковольтных цепей и цепей управления + 0.000 x прочая неисправность проводов, кабелей силовых цепей + 0.000 x прочая неисправность силовых контактов электромагнитного контактора вспомогательных цепей и цепей управления + -0.000 x прочая неисправность шины силовых цепей + 0.000 x са-3 + -0.000 x стк-810 + 0.000 x сгорание плавкой вставки предохранителя, панели предохранителей + -0.000 x тл-2к_y + 0.000 x тл-2к1 + -0.000 x эд118а + -0.000 x эд118б + -0.000 x эдп810 + -0.000 x эк-810ч + 0.000 x экг-8ж + -0.015 x power + -0.000 x last_of_p_data + -0.000 x last_of_in_invent\n",
      "5 component: 0.04% of initial variance\n",
      "0.000 x count_fail + -0.000 x 107_repair_count + -0.000 x 307_repair_count + -0.000 x 308_repair_count + -0.000 x 309_repair_count + -0.000 x 521_repair_count + 0.000 x 800_repair_count + 0.000 x 801_repair_count + 0.000 x автоматический перевод в нр при превышении норм на то-2 + -0.000 x износ тормозной колодки свыше допустимого + -0.000 x межвитковое замыкание обмотки + -0.000 x неисправность быстродействующего выключателя + 0.000 x неисправность водяной системы охлаждения дизеля + -0.000 x неисправность воздухораспределителя + 0.000 x неисправность выпрямительной установки + 0.000 x неисправность главного выключателя + -0.000 x неисправность крана машиниста + -0.000 x неисправность крышевого оборудования + -0.000 x неисправность локомотивной радиостанции + 0.000 x неисправность масляной системы дизеля + -0.000 x неисправность не подтверждена + -0.000 x неисправность поездного компрессора + 0.000 x неисправность расщепителя фаз + 0.000 x неисправность регулятора дизеля + -0.000 x неисправность саут + -0.000 x неисправность токоприемника + 0.000 x неисправность топливной системы дизеля + 0.000 x неисправность тормозного цилиндра + 0.000 x неисправность турбокомпрессора + -0.000 x неисправность тягового трансформатора + -0.000 x неисправность устройств безопасности + -0.000 x неисправность электродвигателя вентилятора охлаждения выпрямительных установок + 0.000 x неисправность электродвигателя вентилятора охлаждения тяговых двигателей + 0.000 x неисправность электродвигателя поездного компрессора + 0.000 x неисправность электронного блока управления преобразователем + 0.000 x неисправность электрооборудования вспомогательных цепей + -0.000 x неисправность электрооборудования силовой цепи + -0.000 x неисправность электрооборудования цепей управления + -0.000 x несоответствие геометрических параметров автосцепки нормативам + -0.000 x несоответствие геометрических параметров бандажа нормативам + 0.000 x ослабление, проворот бандажа + -0.000 x переброс по коллектору, круговой огонь + 0.000 x повреждение вала якоря + 0.000 x повреждение воздухопроводов, соединительных рукавов, арматуры, воздушного резервуара + 0.000 x повреждение выводных кабелей + 0.000 x повреждение кожуха зубчатой передачи + -0.000 x повреждение коллекторно-щеточного аппарата + -0.000 x повреждение корпуса, подвески тягового редуктора + 0.000 x повреждение моторно-осевого подшипника, подвески тягового двигателя + -0.000 x повреждение остова тэд + 0.000 x повреждение подшипникового узла, моторно-якорных подшипников + 0.000 x повреждение элементов + 0.000 x повреждение элементов кузовной ступени подвешивания + 0.000 x повреждение элементов цилиндро-поршневой группы, коленчатого вала + 0.000 x ползуны, выщерблены колёсной пары + -0.000 x пробой изоляции обмотки на корпус + 0.000 x трещина, деформация + -0.000 x трещина, обрыв, износ элемента + 0.000 x count_equip_cum_sum + 0.000 x count_equip + -0.000 x detection_counts + -0.000 x count_substitutions + -0.000 x count_repair_detec + 0.000 x recl_work_result_0 + -0.000 x recl_work_result_2 + -0.000 x recl_work_result_4 + -0.000 x recl_work_result_7 + -0.000 x алсн + -0.000 x анэ225l4ухл2 + -0.000 x бпт-50 + -0.000 x вип-4000ухл2 + -0.000 x главный воздушный выключатель вов-25-4м + -0.000 x колёсная пара + -0.000 x колёсные пары + -0.000 x нб-418к6_x_1 + -0.000 x нб-418к6_x_2 + -0.000 x нб-514_x + -0.000 x нб-520в + -0.000 x нва-55 + -0.000 x одцэ-5000/25 + -0.000 x птр + -0.000 x пружина люлечного подвешивания. + -0.000 x стпр-1000 + -0.000 x тл-2к_x + -0.000 x тэд + -0.000 x тяговый трансформатор + -0.000 x тяговый трансформатор одцэ-5000/25б-02 + -0.000 x тяговый электродвигатель_1 + -0.000 x колесная пара + -0.000 x стартер-генератор 5псгм + -0.000 x тяговые трансформаторы одцэ-5000/25б + 0.000 x тяговый трансформатор одцэ-5000/25б + -0.000 x тяговый электродвигатель_2 + -0.000 x тяговый электродвигатель тип эк-810ч + -0.000 x ячейка мп-алс + -0.000 x year_detection + -0.000 x cumsum_deffect + -0.001 x last_of_cta + -0.001 x last_of_demont + 0.001 x last_of_dgu_per + -0.001 x last_of_ekspl + -0.001 x last_of_el_mont + -0.001 x last_of_kp + -0.001 x last_of_moika + -0.000 x last_of_mzh_agr + -0.001 x last_of_obkat + -0.001 x last_of_op_kuz + -0.001 x last_of_otp_tch + -0.001 x last_of_prib_zav + -0.000 x 107_was_last + -0.000 x last_of_107repair + -0.000 x 307_was_last + -0.000 x last_of_307repair + -0.000 x 309_was_last + -0.000 x last_of_309repair + -0.000 x 521_was_last + -0.000 x last_of_521repair + 0.000 x 800_was_last + 0.000 x last_of_800repair + -0.001 x last_of_sbor + -0.001 x last_of_ted + -0.001 x last_of_tel_sbor + -0.001 x last_of_tu162 + -0.001 x last_of_vor_5 + -0.001 x last_of_vor_isp + -0.001 x last_of_vor_mor + -0.001 x last_of_vyh_tch + -0.001 x last_of_zast_pot + 0.000 x count_loco_23.pr_per_to2_pr + 0.000 x count_loco_23.pr_per_to2_f + 0.000 x count_loco_23.pr_per_to3_pr + 0.000 x count_loco_23.pr_per_to3_f + 0.000 x count_loco_23.pr_per_tr1_pr + 0.000 x count_loco_23.pr_per_tr1_f + 0.000 x count_loco_23.pr_per_tr2_pr + 0.000 x count_loco_23.pr_per_tr2_f + 0.000 x count_loco_23.pr_per_tr3_pr + 0.000 x count_loco_23.pr_per_tr3_f + 0.000 x count_loco_23.pr_per_sec_pr + 0.000 x count_loco_23.kod_rem_per_sec_pr + -0.000 x count_loco_23.pr_per_tpe_pr + -0.000 x count_loco_23.kod_rem_per_tpe_pr + 0.000 x count_loco_23.pr_per_sec_f + 0.000 x count_loco_23.kod_rem_per_sec_f + -0.000 x count_loco_23.pr_per_tpe_f + -0.000 x count_loco_23.kod_rem_per_tpe_f + -0.000 x count_loco_23.prob_km_pr + -0.000 x count_loco_23.prob_vr_pr + -0.000 x count_loco_23.prob_km_f + -0.000 x count_loco_23.prob_vr_f + -0.000 x count_loco_23.pr_per_sr_pr + -0.000 x count_loco_23.pr_per_sr_f + 0.000 x count_loco_23.pr_per_kr_pr + 0.000 x count_loco_23.pr_per_kr_f + 0.000 x count_loco_23.pr_per_ss_pr + 0.000 x count_loco_23.pr_per_ss_f + -0.000 x num_prob_to2_km + 0.000 x repair_prot_day_to_day + -0.000 x repair_prot_week + 0.000 x repair_prot_mounth + 0.000 x unscheduled_repairs + -0.000 x консервац. + 0.000 x то-3 + -0.000 x тр-1 + -0.000 x тр-2 + 0.000 x тр-3 + 0.000 x num_operation_vid_dv_0 + 0.000 x num_operation_vid_dv_11 + 0.000 x num_operation_vid_dv_12 + -0.000 x num_operation_vid_dv_21 + 0.000 x num_operation_vid_dv_22 + 0.000 x num_operation_vid_dv_23 + -0.000 x num_operation_vid_dv_24 + -0.000 x num_operation_vid_dv_41 + 0.000 x num_operation_vid_dv_42 + -0.000 x num_operation_vid_dv_43 + 0.000 x num_operation_vid_dv_50 + -0.000 x num_operation_vid_dv_70 + -0.003 x loco_23.norm_prob_to2_vr + 0.991 x loco_23.norm_prob_tr1_km + -0.037 x loco_23.norm_prob_tr2_km + -0.025 x loco_23.norm_prob_tr3_km + -0.001 x loco_23.norm_prob_sr_km + 0.013 x loco_23.norm_prob_kr_km + 0.000 x loco_23.prv_norm_tr1_km + 0.000 x loco_23.prv_norm_tr2_km + 0.000 x loco_23.prv_norm_tr3_km + -0.000 x loco_23.prv_norm_sr_km + -0.000 x loco_23.prv_norm_kr_km + -0.076 x mileage + 0.000 x repair_count_unique + 0.000 x repair_count + 0.000 x fail_count + 0.000 x 150и + 0.000 x 1а-5д49 + 0.000 x 1а-9дг + -0.000 x 1а-9дг исп.3 + 0.000 x 300л + 0.000 x 394 + 0.000 x 395-3 + 0.000 x 5тн.224.367 + -0.000 x вв 3,5/10 + 0.000 x вип-4000 + 0.000 x вл + 0.000 x вл 5тн.084.840 + -0.000 x вл, эп, 2эс5к (8тн.229.013) + 0.000 x вов-25-4м + 0.000 x вов-25а-10/400 + 0.000 x дксв-1-д + -0.000 x дэн-30мо + 0.000 x кт6-эл + 0.000 x нб-418к6_y + 0.000 x нб-514_y + 0.000 x нк-125 + 0.000 x низкое сопротивление изоляции провода, кабеля низковольтных цепей и цепей управления + 0.000 x низкое сопротивление изоляции проводов, кабелей силовых цепей + 0.000 x одцэ-5000/25б-02 + 0.000 x обрыв провода, кабеля низковольтных цепей и цепей управления + 0.000 x пробой изоляции провода, кабеля низковольтных цепей и цепей управления на корпус + 0.000 x пробой изоляции проводов, кабелей силовых цепей на корпус + 0.000 x прочая неисправность блок-контактов реле напряжения + 0.000 x прочая неисправность блок-контактов реле промежуточного + -0.000 x прочая неисправность манжеты клапана песочницы + 0.000 x прочая неисправность провода, кабеля низковольтных цепей и цепей управления + 0.000 x прочая неисправность проводов, кабелей силовых цепей + 0.000 x прочая неисправность силовых контактов электромагнитного контактора вспомогательных цепей и цепей управления + 0.000 x прочая неисправность шины силовых цепей + -0.000 x са-3 + -0.000 x стк-810 + 0.000 x сгорание плавкой вставки предохранителя, панели предохранителей + -0.000 x тл-2к_y + -0.000 x тл-2к1 + 0.000 x эд118а + 0.000 x эд118б + -0.000 x эдп810 + -0.000 x эк-810ч + 0.000 x экг-8ж + -0.099 x power + -0.001 x last_of_p_data + -0.001 x last_of_in_invent\n",
      "6 component: 0.02% of initial variance\n",
      "-0.000 x count_fail + 0.000 x 107_repair_count + 0.000 x 307_repair_count + -0.000 x 308_repair_count + -0.000 x 309_repair_count + 0.000 x 521_repair_count + 0.000 x 800_repair_count + 0.000 x 801_repair_count + 0.000 x автоматический перевод в нр при превышении норм на то-2 + 0.000 x износ тормозной колодки свыше допустимого + 0.000 x межвитковое замыкание обмотки + 0.000 x неисправность быстродействующего выключателя + 0.000 x неисправность водяной системы охлаждения дизеля + 0.000 x неисправность воздухораспределителя + 0.000 x неисправность выпрямительной установки + 0.000 x неисправность главного выключателя + 0.000 x неисправность крана машиниста + 0.000 x неисправность крышевого оборудования + 0.000 x неисправность локомотивной радиостанции + 0.000 x неисправность масляной системы дизеля + 0.000 x неисправность не подтверждена + -0.000 x неисправность поездного компрессора + -0.000 x неисправность расщепителя фаз + 0.000 x неисправность регулятора дизеля + 0.000 x неисправность саут + 0.000 x неисправность токоприемника + 0.000 x неисправность топливной системы дизеля + 0.000 x неисправность тормозного цилиндра + 0.000 x неисправность турбокомпрессора + -0.000 x неисправность тягового трансформатора + 0.000 x неисправность устройств безопасности + 0.000 x неисправность электродвигателя вентилятора охлаждения выпрямительных установок + 0.000 x неисправность электродвигателя вентилятора охлаждения тяговых двигателей + 0.000 x неисправность электродвигателя поездного компрессора + -0.000 x неисправность электронного блока управления преобразователем + 0.000 x неисправность электрооборудования вспомогательных цепей + -0.000 x неисправность электрооборудования силовой цепи + -0.000 x неисправность электрооборудования цепей управления + 0.000 x несоответствие геометрических параметров автосцепки нормативам + 0.000 x несоответствие геометрических параметров бандажа нормативам + -0.000 x ослабление, проворот бандажа + -0.000 x переброс по коллектору, круговой огонь + 0.000 x повреждение вала якоря + 0.000 x повреждение воздухопроводов, соединительных рукавов, арматуры, воздушного резервуара + 0.000 x повреждение выводных кабелей + -0.000 x повреждение кожуха зубчатой передачи + 0.000 x повреждение коллекторно-щеточного аппарата + -0.000 x повреждение корпуса, подвески тягового редуктора + 0.000 x повреждение моторно-осевого подшипника, подвески тягового двигателя + -0.000 x повреждение остова тэд + 0.000 x повреждение подшипникового узла, моторно-якорных подшипников + 0.000 x повреждение элементов + 0.000 x повреждение элементов кузовной ступени подвешивания + 0.000 x повреждение элементов цилиндро-поршневой группы, коленчатого вала + 0.000 x ползуны, выщерблены колёсной пары + -0.000 x пробой изоляции обмотки на корпус + 0.000 x трещина, деформация + 0.000 x трещина, обрыв, износ элемента + 0.000 x count_equip_cum_sum + 0.000 x count_equip + 0.000 x detection_counts + 0.000 x count_substitutions + -0.000 x count_repair_detec + 0.000 x recl_work_result_0 + 0.000 x recl_work_result_2 + 0.000 x recl_work_result_4 + -0.000 x recl_work_result_7 + -0.000 x алсн + -0.000 x анэ225l4ухл2 + -0.000 x бпт-50 + -0.000 x вип-4000ухл2 + -0.000 x главный воздушный выключатель вов-25-4м + -0.000 x колёсная пара + -0.000 x колёсные пары + -0.000 x нб-418к6_x_1 + -0.000 x нб-418к6_x_2 + -0.000 x нб-514_x + -0.000 x нб-520в + 0.000 x нва-55 + -0.000 x одцэ-5000/25 + -0.000 x птр + -0.000 x пружина люлечного подвешивания. + -0.000 x стпр-1000 + -0.000 x тл-2к_x + 0.000 x тэд + -0.000 x тяговый трансформатор + -0.000 x тяговый трансформатор одцэ-5000/25б-02 + -0.000 x тяговый электродвигатель_1 + -0.000 x колесная пара + -0.000 x стартер-генератор 5псгм + -0.000 x тяговые трансформаторы одцэ-5000/25б + 0.000 x тяговый трансформатор одцэ-5000/25б + -0.000 x тяговый электродвигатель_2 + -0.000 x тяговый электродвигатель тип эк-810ч + -0.000 x ячейка мп-алс + 0.000 x year_detection + 0.000 x cumsum_deffect + -0.042 x last_of_cta + -0.042 x last_of_demont + 0.000 x last_of_dgu_per + -0.042 x last_of_ekspl + -0.042 x last_of_el_mont + -0.042 x last_of_kp + -0.042 x last_of_moika + -0.000 x last_of_mzh_agr + -0.042 x last_of_obkat + -0.042 x last_of_op_kuz + -0.042 x last_of_otp_tch + -0.042 x last_of_prib_zav + 0.000 x 107_was_last + -0.000 x last_of_107repair + 0.000 x 307_was_last + 0.000 x last_of_307repair + 0.000 x 309_was_last + 0.000 x last_of_309repair + -0.000 x 521_was_last + -0.000 x last_of_521repair + 0.000 x 800_was_last + -0.000 x last_of_800repair + -0.042 x last_of_sbor + -0.042 x last_of_ted + -0.042 x last_of_tel_sbor + -0.042 x last_of_tu162 + -0.042 x last_of_vor_5 + -0.042 x last_of_vor_isp + -0.042 x last_of_vor_mor + -0.042 x last_of_vyh_tch + -0.042 x last_of_zast_pot + -0.000 x count_loco_23.pr_per_to2_pr + -0.000 x count_loco_23.pr_per_to2_f + -0.000 x count_loco_23.pr_per_to3_pr + -0.000 x count_loco_23.pr_per_to3_f + -0.000 x count_loco_23.pr_per_tr1_pr + -0.000 x count_loco_23.pr_per_tr1_f + -0.000 x count_loco_23.pr_per_tr2_pr + -0.000 x count_loco_23.pr_per_tr2_f + -0.000 x count_loco_23.pr_per_tr3_pr + -0.000 x count_loco_23.pr_per_tr3_f + -0.000 x count_loco_23.pr_per_sec_pr + -0.000 x count_loco_23.kod_rem_per_sec_pr + -0.001 x count_loco_23.pr_per_tpe_pr + -0.001 x count_loco_23.kod_rem_per_tpe_pr + -0.000 x count_loco_23.pr_per_sec_f + -0.000 x count_loco_23.kod_rem_per_sec_f + -0.001 x count_loco_23.pr_per_tpe_f + -0.001 x count_loco_23.kod_rem_per_tpe_f + -0.001 x count_loco_23.prob_km_pr + -0.001 x count_loco_23.prob_vr_pr + -0.001 x count_loco_23.prob_km_f + -0.001 x count_loco_23.prob_vr_f + -0.000 x count_loco_23.pr_per_sr_pr + -0.000 x count_loco_23.pr_per_sr_f + -0.000 x count_loco_23.pr_per_kr_pr + -0.000 x count_loco_23.pr_per_kr_f + -0.000 x count_loco_23.pr_per_ss_pr + -0.000 x count_loco_23.pr_per_ss_f + 0.000 x num_prob_to2_km + 0.000 x repair_prot_day_to_day + 0.000 x repair_prot_week + 0.000 x repair_prot_mounth + 0.000 x unscheduled_repairs + -0.000 x консервац. + 0.000 x то-3 + 0.000 x тр-1 + -0.000 x тр-2 + 0.000 x тр-3 + 0.000 x num_operation_vid_dv_0 + -0.000 x num_operation_vid_dv_11 + -0.000 x num_operation_vid_dv_12 + -0.003 x num_operation_vid_dv_21 + -0.000 x num_operation_vid_dv_22 + 0.000 x num_operation_vid_dv_23 + -0.000 x num_operation_vid_dv_24 + -0.000 x num_operation_vid_dv_41 + 0.000 x num_operation_vid_dv_42 + 0.000 x num_operation_vid_dv_43 + 0.000 x num_operation_vid_dv_50 + 0.000 x num_operation_vid_dv_70 + 0.000 x loco_23.norm_prob_to2_vr + 0.077 x loco_23.norm_prob_tr1_km + -0.005 x loco_23.norm_prob_tr2_km + -0.006 x loco_23.norm_prob_tr3_km + -0.003 x loco_23.norm_prob_sr_km + 0.000 x loco_23.norm_prob_kr_km + 0.000 x loco_23.prv_norm_tr1_km + 0.000 x loco_23.prv_norm_tr2_km + 0.000 x loco_23.prv_norm_tr3_km + 0.000 x loco_23.prv_norm_sr_km + 0.000 x loco_23.prv_norm_kr_km + 0.979 x mileage + 0.000 x repair_count_unique + 0.000 x repair_count + -0.000 x fail_count + 0.000 x 150и + 0.000 x 1а-5д49 + -0.000 x 1а-9дг + -0.000 x 1а-9дг исп.3 + 0.000 x 300л + 0.000 x 394 + 0.000 x 395-3 + 0.000 x 5тн.224.367 + 0.000 x вв 3,5/10 + 0.000 x вип-4000 + 0.000 x вл + 0.000 x вл 5тн.084.840 + -0.000 x вл, эп, 2эс5к (8тн.229.013) + 0.000 x вов-25-4м + 0.000 x вов-25а-10/400 + 0.000 x дксв-1-д + 0.000 x дэн-30мо + 0.000 x кт6-эл + 0.000 x нб-418к6_y + 0.000 x нб-514_y + 0.000 x нк-125 + 0.000 x низкое сопротивление изоляции провода, кабеля низковольтных цепей и цепей управления + 0.000 x низкое сопротивление изоляции проводов, кабелей силовых цепей + 0.000 x одцэ-5000/25б-02 + 0.000 x обрыв провода, кабеля низковольтных цепей и цепей управления + 0.000 x пробой изоляции провода, кабеля низковольтных цепей и цепей управления на корпус + 0.000 x пробой изоляции проводов, кабелей силовых цепей на корпус + -0.000 x прочая неисправность блок-контактов реле напряжения + 0.000 x прочая неисправность блок-контактов реле промежуточного + -0.000 x прочая неисправность манжеты клапана песочницы + 0.000 x прочая неисправность провода, кабеля низковольтных цепей и цепей управления + 0.000 x прочая неисправность проводов, кабелей силовых цепей + 0.000 x прочая неисправность силовых контактов электромагнитного контактора вспомогательных цепей и цепей управления + 0.000 x прочая неисправность шины силовых цепей + 0.000 x са-3 + 0.000 x стк-810 + 0.000 x сгорание плавкой вставки предохранителя, панели предохранителей + 0.000 x тл-2к_y + 0.000 x тл-2к1 + -0.000 x эд118а + -0.000 x эд118б + 0.000 x эдп810 + 0.000 x эк-810ч + 0.000 x экг-8ж + 0.034 x power + 0.002 x last_of_p_data + 0.002 x last_of_in_invent\n"
     ]
    }
   ],
   "source": [
    "explained_variance = pca.explained_variance_ratio_ \n",
    "\n",
    "print(explained_variance)\n",
    "print(\"                                                                                                                                   \")\n",
    "\n",
    "X_train_df=df = pd.DataFrame(X_train) \n",
    "for i, component in enumerate(pca.components_):\n",
    "    print(\"{} component: {}% of initial variance\".format(i + 1, \n",
    "          round(100 * pca.explained_variance_ratio_[i], 2)))\n",
    "    print(\" + \".join(\"%.3f x %s\" % (value, name)\n",
    "                     for value, name in zip(component,\n",
    "                                            data_new.columns)))\n",
    "\n",
    "principalComponents = pca.fit_transform(X_train)\n"
   ]
  },
  {
   "cell_type": "markdown",
   "metadata": {
    "id": "9c2OwdkbqXWG"
   },
   "source": [
    "#GradientBoostingClassifier"
   ]
  },
  {
   "cell_type": "code",
   "execution_count": 79,
   "metadata": {
    "id": "ApftUNZx6G9r"
   },
   "outputs": [],
   "source": [
    "model_gradboost = GradientBoostingClassifier(n_estimators=100, learning_rate=0.1, max_depth=1, random_state=42).fit(X_train_pca, np.ravel(y_train))\n",
    "\n",
    "y_train_gradboost=model_gradboost.predict(X_train_pca)\n",
    "y_test_gradboost=model_gradboost.predict(X_test_pca)"
   ]
  },
  {
   "cell_type": "code",
   "execution_count": 81,
   "metadata": {
    "colab": {
     "base_uri": "https://localhost:8080/"
    },
    "id": "4C3mZZnkvd8K",
    "outputId": "f9e9e522-c46b-4201-c5bb-450556f6477f"
   },
   "outputs": [
    {
     "data": {
      "text/plain": [
       "0.9215328467153284"
      ]
     },
     "execution_count": 81,
     "metadata": {},
     "output_type": "execute_result"
    }
   ],
   "source": [
    "val_score = model_gradboost.score(X_test_pca, y_test) # val (test) score\n",
    "val_score"
   ]
  },
  {
   "cell_type": "code",
   "execution_count": 62,
   "metadata": {
    "colab": {
     "base_uri": "https://localhost:8080/",
     "height": 296
    },
    "id": "aWnEoys_qmcU",
    "outputId": "fae6956d-3385-4d69-b20b-a2cedacca32c"
   },
   "outputs": [
    {
     "name": "stdout",
     "output_type": "stream",
     "text": [
      "Confusion Matrix Градиентный бустинг\n"
     ]
    },
    {
     "data": {
      "image/png": "[encoded data removed]",
      "text/plain": [
       "<Figure size 432x288 with 2 Axes>"
      ]
     },
     "metadata": {
      "needs_background": "light"
     },
     "output_type": "display_data"
    }
   ],
   "source": [
    "print('Confusion Matrix Градиентный бустинг')\n",
    "cm_gb = confusion_matrix(y_test, y_test_gradboost, labels=model_gradboost.classes_)\n",
    "disp_gb = ConfusionMatrixDisplay(confusion_matrix=cm_gb, display_labels=model_gradboost.classes_)\n",
    "disp_gb.plot()\n",
    "plt.show()"
   ]
  },
  {
   "cell_type": "code",
   "execution_count": 63,
   "metadata": {
    "colab": {
     "base_uri": "https://localhost:8080/"
    },
    "id": "x0qhljtFqmfp",
    "outputId": "1b055af2-ca3e-4433-895c-cd0271120959"
   },
   "outputs": [
    {
     "name": "stdout",
     "output_type": "stream",
     "text": [
      "Метрики Градиентный бустинг на тестовой выборке\n",
      "              precision    recall  f1-score   support\n",
      "\n",
      "           0       0.98      0.86      0.92     11006\n",
      "           1       0.88      0.98      0.93     10914\n",
      "\n",
      "    accuracy                           0.92     21920\n",
      "   macro avg       0.93      0.92      0.92     21920\n",
      "weighted avg       0.93      0.92      0.92     21920\n",
      "\n"
     ]
    }
   ],
   "source": [
    "GB_CLR=classification_report(y_test,y_test_gradboost)\n",
    "print(\"Метрики Градиентный бустинг на тестовой выборке\")\n",
    "print(GB_CLR)"
   ]
  },
  {
   "cell_type": "code",
   "execution_count": 64,
   "metadata": {
    "colab": {
     "base_uri": "https://localhost:8080/"
    },
    "id": "Vb0XNB7rqmiP",
    "outputId": "72e917d2-2c71-4931-e42a-2af89415f3a4"
   },
   "outputs": [
    {
     "name": "stdout",
     "output_type": "stream",
     "text": [
      "Верно спрогнозированное событие, %:  0.9817665383910573\n",
      "Верно спрогнозированное отсуствие события, %:  0.8618026530983101\n"
     ]
    }
   ],
   "source": [
    "d = {'day':y_test}\n",
    "Predict_test = pd.DataFrame(data=d)\n",
    "Predict_test['predict'] = y_test_gradboost\n",
    "print('Верно спрогнозированное событие, %: ', len(Predict_test[(Predict_test['predict'] == 1)&(Predict_test['day'] == 1)].index)/len(Predict_test[Predict_test['day'] == 1].index))\n",
    "print('Верно спрогнозированное отсуствие события, %: ', len(Predict_test[(Predict_test['predict'] == 0)&(Predict_test['day'] == 0)].index)/len(Predict_test[Predict_test['day'] == 0].index))"
   ]
  },
  {
   "cell_type": "markdown",
   "metadata": {
    "id": "Wlxk0UsXr0OI"
   },
   "source": [
    "#Случайный лес"
   ]
  },
  {
   "cell_type": "code",
   "execution_count": 65,
   "metadata": {
    "id": "tKh6ANOero5g"
   },
   "outputs": [],
   "source": [
    "model_rf = RandomForestClassifier(n_estimators=10, \n",
    "                                  random_state=42, max_depth=40, bootstrap='false').fit(X_train_pca, np.ravel(y_train))\n",
    "\n",
    "y_train_rf=model_rf.predict(X_train_pca)\n",
    "y_train_proba_rf=model_rf.predict_proba(X_train_pca)\n",
    "y_test_rf=model_rf.predict(X_test_pca)\n",
    "y_test_proba_rf_=model_rf.predict_proba(X_test_pca)"
   ]
  },
  {
   "cell_type": "code",
   "execution_count": 82,
   "metadata": {
    "colab": {
     "base_uri": "https://localhost:8080/"
    },
    "id": "ry7_Ra7lwNlw",
    "outputId": "616e98e6-16f7-41a3-b72b-9e255027ecf4"
   },
   "outputs": [
    {
     "data": {
      "text/plain": [
       "0.9215328467153284"
      ]
     },
     "execution_count": 82,
     "metadata": {},
     "output_type": "execute_result"
    }
   ],
   "source": [
    "val_score = model_gradboost.score(X_test_pca, y_test) # val (test) score\n",
    "val_score"
   ]
  },
  {
   "cell_type": "code",
   "execution_count": 66,
   "metadata": {
    "colab": {
     "base_uri": "https://localhost:8080/",
     "height": 296
    },
    "id": "bF1Eol5Hro8P",
    "outputId": "18a6798a-7262-4dee-8701-0717898b2eb7"
   },
   "outputs": [
    {
     "name": "stdout",
     "output_type": "stream",
     "text": [
      "Confusion Matrix Случайный лес\n"
     ]
    },
    {
     "data": {
      "image/png": "[encoded data removed]",
      "text/plain": [
       "<Figure size 432x288 with 2 Axes>"
      ]
     },
     "metadata": {
      "needs_background": "light"
     },
     "output_type": "display_data"
    }
   ],
   "source": [
    "print('Confusion Matrix Случайный лес')\n",
    "cm_rf = confusion_matrix(y_test, y_test_rf, labels=model_rf.classes_)\n",
    "disp_rf = ConfusionMatrixDisplay(confusion_matrix=cm_rf, display_labels=model_rf.classes_)\n",
    "disp_rf.plot()\n",
    "plt.show()"
   ]
  },
  {
   "cell_type": "code",
   "execution_count": 67,
   "metadata": {
    "colab": {
     "base_uri": "https://localhost:8080/"
    },
    "id": "79_W-FWVro-2",
    "outputId": "b449d2f6-e1a6-4baa-c25d-68a20741dc8d"
   },
   "outputs": [
    {
     "name": "stdout",
     "output_type": "stream",
     "text": [
      "Метрики Случайный лес на тестовой выборке\n",
      "              precision    recall  f1-score   support\n",
      "\n",
      "           0       0.99      0.99      0.99     11006\n",
      "           1       0.99      0.99      0.99     10914\n",
      "\n",
      "    accuracy                           0.99     21920\n",
      "   macro avg       0.99      0.99      0.99     21920\n",
      "weighted avg       0.99      0.99      0.99     21920\n",
      "\n"
     ]
    }
   ],
   "source": [
    "RF_CLR=classification_report(y_test,y_test_rf)\n",
    "print(\"Метрики Случайный лес на тестовой выборке\")\n",
    "print(RF_CLR)"
   ]
  },
  {
   "cell_type": "code",
   "execution_count": 68,
   "metadata": {
    "colab": {
     "base_uri": "https://localhost:8080/"
    },
    "id": "-G4_tcqDrpBu",
    "outputId": "faac8880-763d-4426-e391-dd4c376a5557"
   },
   "outputs": [
    {
     "name": "stdout",
     "output_type": "stream",
     "text": [
      "Верно спрогнозированное событие, %:  0.9912039582188016\n",
      "Верно спрогнозированное отсуствие события, %:  0.9911866254770125\n"
     ]
    }
   ],
   "source": [
    "d = {'day':y_test}\n",
    "Predict_test = pd.DataFrame(data=d)\n",
    "Predict_test['predict'] = y_test_rf\n",
    "print('Верно спрогнозированное событие, %: ', len(Predict_test[(Predict_test['predict'] == 1)&(Predict_test['day'] == 1)].index)/len(Predict_test[Predict_test['day'] == 1].index))\n",
    "print('Верно спрогнозированное отсуствие события, %: ', len(Predict_test[(Predict_test['predict'] == 0)&(Predict_test['day'] == 0)].index)/len(Predict_test[Predict_test['day'] == 0].index))"
   ]
  },
  {
   "cell_type": "markdown",
   "metadata": {
    "id": "zuhyjt6avxz5"
   },
   "source": [
    "#Дерево решений"
   ]
  },
  {
   "cell_type": "code",
   "execution_count": 69,
   "metadata": {
    "id": "rwZYtByOrpEl"
   },
   "outputs": [],
   "source": [
    "model_t = tree.DecisionTreeClassifier(criterion='gini', random_state=42,max_depth=2).fit(X_train_pca,np.ravel(y_train))\n",
    "y_train_tree=model_t.predict(X_train_pca)\n",
    "y_train_proba_tree=model_t.predict_proba(X_train_pca)\n",
    "y_test_tree=model_t.predict(X_test_pca)\n",
    "y_test_proba_tree=model_t.predict_proba(X_test_pca)"
   ]
  },
  {
   "cell_type": "code",
   "execution_count": null,
   "metadata": {
    "id": "5Q-JXL8fwm0l"
   },
   "outputs": [],
   "source": [
    "val_score = model_gradboost.score(X_test_pca, y_test) # val (test) score\n",
    "val_score"
   ]
  },
  {
   "cell_type": "code",
   "execution_count": 70,
   "metadata": {
    "colab": {
     "base_uri": "https://localhost:8080/",
     "height": 296
    },
    "id": "xRGJvA_pv1nn",
    "outputId": "634880b2-f058-40b8-e33e-71ebb5f159f5"
   },
   "outputs": [
    {
     "name": "stdout",
     "output_type": "stream",
     "text": [
      "Confusion Matrix Дерево решений\n"
     ]
    },
    {
     "data": {
      "image/png": "[encoded data removed]",
      "text/plain": [
       "<Figure size 432x288 with 2 Axes>"
      ]
     },
     "metadata": {
      "needs_background": "light"
     },
     "output_type": "display_data"
    }
   ],
   "source": [
    "print('Confusion Matrix Дерево решений')\n",
    "cm_tree = confusion_matrix(y_test, y_test_tree, labels=model_t.classes_)\n",
    "disp_tree = ConfusionMatrixDisplay(confusion_matrix=cm_tree, display_labels=model_t.classes_)\n",
    "disp_tree.plot()\n",
    "plt.show()"
   ]
  },
  {
   "cell_type": "code",
   "execution_count": 71,
   "metadata": {
    "colab": {
     "base_uri": "https://localhost:8080/"
    },
    "id": "tLzMnLkbv1rO",
    "outputId": "e8aa6180-b0ab-48b2-e092-06be7481068b"
   },
   "outputs": [
    {
     "name": "stdout",
     "output_type": "stream",
     "text": [
      "Метрики Деревья решений на тестовой выборке\n",
      "              precision    recall  f1-score   support\n",
      "\n",
      "           0       0.98      0.79      0.87     11006\n",
      "           1       0.82      0.98      0.89     10914\n",
      "\n",
      "    accuracy                           0.88     21920\n",
      "   macro avg       0.90      0.88      0.88     21920\n",
      "weighted avg       0.90      0.88      0.88     21920\n",
      "\n"
     ]
    }
   ],
   "source": [
    "TREE_CLR=classification_report(y_test,y_test_tree)\n",
    "print(\"Метрики Деревья решений на тестовой выборке\")\n",
    "print(TREE_CLR)"
   ]
  },
  {
   "cell_type": "code",
   "execution_count": 72,
   "metadata": {
    "colab": {
     "base_uri": "https://localhost:8080/"
    },
    "id": "dXJbmNeev1t2",
    "outputId": "5bc5a610-1524-43cf-dbc0-42fa360809b5"
   },
   "outputs": [
    {
     "name": "stdout",
     "output_type": "stream",
     "text": [
      "Верно спрогнозированное событие, %:  0.9817665383910573\n",
      "Верно спрогнозированное отсуствие события, %:  0.7852989278575323\n"
     ]
    }
   ],
   "source": [
    "d = {'day':y_test}\n",
    "Predict_test = pd.DataFrame(data=d)\n",
    "Predict_test['predict'] = y_test_tree\n",
    "print('Верно спрогнозированное событие, %: ', len(Predict_test[(Predict_test['predict'] == 1)&(Predict_test['day'] == 1)].index)/len(Predict_test[Predict_test['day'] == 1].index))\n",
    "print('Верно спрогнозированное отсуствие события, %: ', len(Predict_test[(Predict_test['predict'] == 0)&(Predict_test['day'] == 0)].index)/len(Predict_test[Predict_test['day'] == 0].index))"
   ]
  },
  {
   "cell_type": "code",
   "execution_count": 73,
   "metadata": {
    "colab": {
     "base_uri": "https://localhost:8080/",
     "height": 341
    },
    "id": "OsdeckbetGdu",
    "outputId": "81533466-43ef-45c0-ab21-0ed42a562052"
   },
   "outputs": [
    {
     "data": {
      "image/png": "[encoded data removed]",
      "text/plain": [
       "<Figure size 3600x864 with 1 Axes>"
      ]
     },
     "metadata": {
      "needs_background": "light"
     },
     "output_type": "display_data"
    }
   ],
   "source": [
    "#Визуализация дерева\n",
    "plt.figure(figsize=(50,12))\n",
    "tree.plot_tree(model_t, filled='True')\n",
    "plt.show()"
   ]
  }
 ],
 "metadata": {
  "colab": {
   "provenance": []
  },
  "kernelspec": {
   "display_name": "Python 3",
   "language": "python",
   "name": "python3"
  },
  "language_info": {
   "codemirror_mode": {
    "name": "ipython",
    "version": 3
   },
   "file_extension": ".py",
   "mimetype": "text/x-python",
   "name": "python",
   "nbconvert_exporter": "python",
   "pygments_lexer": "ipython3",
   "version": "3.8.8"
  }
 },
 "nbformat": 4,
 "nbformat_minor": 1
}
